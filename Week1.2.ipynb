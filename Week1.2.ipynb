{
 "cells": [
  {
   "cell_type": "markdown",
   "metadata": {},
   "source": [
    "# Week 1.2: Classes and instances\n"
   ]
  },
  {
   "cell_type": "markdown",
   "metadata": {},
   "source": [
    "### Assignment 1: the Atom class"
   ]
  },
  {
   "cell_type": "markdown",
   "metadata": {},
   "source": [
    "- atomic number = proton number (and electro number in a neutron atom)\n",
    "- mass = atomic number(proton number)  + neutrons\n",
    "- neutrons = mass -  atomic number(proton number) \n",
    "\n",
    "- isotopes = same atomic number (proton number) but different number of neutrons"
   ]
  },
  {
   "cell_type": "markdown",
   "metadata": {},
   "source": [
    "Class Atom"
   ]
  },
  {
   "cell_type": "code",
   "execution_count": 4,
   "metadata": {},
   "outputs": [],
   "source": [
    "class Atom:\n",
    "    '''Any atom in the periodic table'''\n",
    "    def __init__(self, symbol, atomic_number, neutron_number):\n",
    "        self.symbol = symbol\n",
    "        self.atomic_number = atomic_number\n",
    "        self.neutron_number = neutron_number\n",
    "        \n",
    "    def proton_number(self):\n",
    "        '''Number of protons in the nucleus'''\n",
    "        return self.atomic_number\n",
    "    \n",
    "    def mass_number(self):\n",
    "        '''Sum of the protons and neutrons in the nucleus'''\n",
    "        return self.atomic_number + self.neutron_number\n",
    "\n",
    "    def isotope(self, neutron_number):\n",
    "        '''Update neutron number to create a different isotope'''\n",
    "        self.neutron_number = neutron_number\n",
    "\n",
    "    def __lt__(self, other):\n",
    "        '''Metod to check if the current isotope is 'less than' the other \n",
    "        (base on the mass number). Returns True, False or Raise an error'''\n",
    "        \n",
    "        # Check if the elements to compare are the same\n",
    "        if self.symbol == other.symbol:\n",
    "            return self.mass_number() < other.mass_number()\n",
    "        else:\n",
    "            # Raise an exception if elements are different\n",
    "            raise ValueError(\"Cannot compare isotopes of different elements\")\n",
    "\n",
    "    def __gt__(self, other):\n",
    "        '''Metod to check if the current isotope is 'greater than' the other \n",
    "        (base on the mass number). Returns True, False or Raise an error'''\n",
    "        # Check if the elements to compare are the same\n",
    "        if self.symbol == other.symbol:\n",
    "            return self.mass_number() > other.mass_number()\n",
    "        else:\n",
    "            # Raise an exception if elements are different\n",
    "            raise ValueError(\"Cannot compare isotopes of different elements\")\n",
    "        \n",
    "    def __le__(self, other):\n",
    "        '''Metod to check if the current isotope is 'less-than-or-equal-to' the \n",
    "        other (base on the mass number). Returns True, False or Raise an error'''\n",
    "        # Check if the elements to compare are the same\n",
    "        if self.symbol == other.symbol:\n",
    "            return self.mass_number() < other.mass_number()\n",
    "        else:\n",
    "            # Raise an exception if elements are different\n",
    "            raise ValueError(\"Cannot compare isotopes of different elements\")\n",
    "\n",
    "    def __ge__(self, other):\n",
    "        '''Metod to check if the current isotope is 'greater-than-or-equal-to' \n",
    "        the other (base on the mass number). Returns True, False or Raise an error'''\n",
    "        # Check if the elements to compare are the same\n",
    "        if self.symbol == other.symbol:\n",
    "            return self.mass_number() > other.mass_number()\n",
    "        else:\n",
    "            # Raise an exception if elements are different\n",
    "            raise ValueError(\"Cannot compare isotopes of different elements\")\n",
    "        \n"
   ]
  },
  {
   "cell_type": "code",
   "execution_count": 5,
   "metadata": {},
   "outputs": [
    {
     "name": "stdout",
     "output_type": "stream",
     "text": [
      "True\n",
      "True\n",
      "False\n"
     ]
    }
   ],
   "source": [
    "# Example usage:\n",
    "atom1 = Atom(symbol='O', atomic_number=8, neutron_number=8)\n",
    "atom2 = Atom(symbol='O', atomic_number=8, neutron_number=9)\n",
    "\n",
    "print(atom1 <= atom2)  # Should print True\n",
    "print(atom1 < atom2)   # Should print True\n",
    "print(atom1 > atom2)   # Should print False"
   ]
  },
  {
   "cell_type": "markdown",
   "metadata": {},
   "source": [
    "Testing the implementation"
   ]
  },
  {
   "cell_type": "code",
   "execution_count": 6,
   "metadata": {},
   "outputs": [],
   "source": [
    "# symbol, atomic_number, neutron_number\n",
    "protium = Atom('H', 1, 1)\n",
    "deuterium = Atom('H', 1, 2)\n",
    "oxygen = Atom('O', 8, 8)\n",
    "tritium = Atom('H', 1, 2)\n"
   ]
  },
  {
   "cell_type": "code",
   "execution_count": 7,
   "metadata": {},
   "outputs": [
    {
     "name": "stdout",
     "output_type": "stream",
     "text": [
      "Tritium neutron number: 2\n",
      "Tritium mass number: 3\n",
      "Tritium neutron number: 3\n",
      "Tritium mass number: 4\n"
     ]
    }
   ],
   "source": [
    "# Defing the new neutron_number of tritium \n",
    "print('Tritium neutron number:', tritium.neutron_number)\n",
    "print('Tritium mass number:', tritium.mass_number())\n",
    "tritium.isotope(3)\n",
    "print('Tritium neutron number:', tritium.neutron_number)\n",
    "print('Tritium mass number:', tritium.mass_number())\n",
    "\n",
    "\n",
    "assert tritium.neutron_number == 3\n",
    "assert tritium.mass_number() == 4"
   ]
  },
  {
   "cell_type": "code",
   "execution_count": 8,
   "metadata": {},
   "outputs": [
    {
     "name": "stdout",
     "output_type": "stream",
     "text": [
      "Mass number:\n",
      "Protium: 2 Deutetium: 3 Tritium: 4\n"
     ]
    }
   ],
   "source": [
    "# Printing mass number\n",
    "print('Mass number:')\n",
    "print('Protium:', protium.mass_number(),\n",
    "    'Deutetium:', deuterium.mass_number(),\n",
    "    'Tritium:',tritium.mass_number())\n",
    "\n",
    "# Simple comparisons as '>' and '>' are implemented\n",
    "assert protium < deuterium\n",
    "assert deuterium < tritium\n",
    "assert tritium > protium \n",
    "assert tritium == tritium\n",
    "\n"
   ]
  },
  {
   "cell_type": "code",
   "execution_count": 9,
   "metadata": {},
   "outputs": [
    {
     "ename": "ValueError",
     "evalue": "Cannot compare isotopes of different elements",
     "output_type": "error",
     "traceback": [
      "\u001b[0;31m---------------------------------------------------------------------------\u001b[0m",
      "\u001b[0;31mValueError\u001b[0m                                Traceback (most recent call last)",
      "Input \u001b[0;32mIn [9]\u001b[0m, in \u001b[0;36m<cell line: 1>\u001b[0;34m()\u001b[0m\n\u001b[0;32m----> 1\u001b[0m \u001b[38;5;28;01massert\u001b[39;00m (\u001b[43moxygen\u001b[49m\u001b[43m \u001b[49m\u001b[38;5;241;43m>\u001b[39;49m\u001b[43m \u001b[49m\u001b[43mtritium\u001b[49m)\n",
      "Input \u001b[0;32mIn [4]\u001b[0m, in \u001b[0;36mAtom.__gt__\u001b[0;34m(self, other)\u001b[0m\n\u001b[1;32m     36\u001b[0m     \u001b[38;5;28;01mreturn\u001b[39;00m \u001b[38;5;28mself\u001b[39m\u001b[38;5;241m.\u001b[39mmass_number() \u001b[38;5;241m>\u001b[39m other\u001b[38;5;241m.\u001b[39mmass_number()\n\u001b[1;32m     37\u001b[0m \u001b[38;5;28;01melse\u001b[39;00m:\n\u001b[1;32m     38\u001b[0m     \u001b[38;5;66;03m# Raise an exception if elements are different\u001b[39;00m\n\u001b[0;32m---> 39\u001b[0m     \u001b[38;5;28;01mraise\u001b[39;00m \u001b[38;5;167;01mValueError\u001b[39;00m(\u001b[38;5;124m\"\u001b[39m\u001b[38;5;124mCannot compare isotopes of different elements\u001b[39m\u001b[38;5;124m\"\u001b[39m)\n",
      "\u001b[0;31mValueError\u001b[0m: Cannot compare isotopes of different elements"
     ]
    }
   ],
   "source": [
    "assert (oxygen > tritium) # <-- this should raise an Exception\n"
   ]
  },
  {
   "cell_type": "code",
   "execution_count": 10,
   "metadata": {},
   "outputs": [],
   "source": [
    "assert deuterium <= tritium\n",
    "assert tritium >= protium "
   ]
  },
  {
   "cell_type": "markdown",
   "metadata": {},
   "source": [
    "### Assignment 2: the Molecule class"
   ]
  },
  {
   "cell_type": "code",
   "execution_count": 11,
   "metadata": {},
   "outputs": [],
   "source": [
    "class Molecule:\n",
    "    '''Neutral group of two or more atoms.\n",
    "    A list of tuples of two values (a pair) is given'''\n",
    "\n",
    "    def __init__(self, atoms):\n",
    "        self.atoms = atoms\n",
    "        \n",
    "    def __str__(self):\n",
    "        '''Translate the molecule to its chemical formula and return it as a string'''\n",
    "        formula = \"\"\n",
    "        # Loop to get the attributes from the Atom class passed\n",
    "        for atom, atom_number in self.atoms:\n",
    "            if atom_number != 1:\n",
    "                temp_formula = atom.symbol + str(atom_number)\n",
    "            else:\n",
    "                temp_formula = atom.symbol\n",
    "            formula = formula + temp_formula\n",
    "        return formula\n",
    "\n",
    "\n",
    "    def __add__(self, other):\n",
    "        '''Add two molecules together to create a new molecule'''\n",
    "        new_molecule_atoms = self.atoms + other.atoms\n",
    "        #print(new_molecule_atoms)\n",
    "        # create a molecule instance\n",
    "        new_molecule = Molecule(new_molecule_atoms)\n",
    "        return new_molecule\n"
   ]
  },
  {
   "cell_type": "markdown",
   "metadata": {},
   "source": [
    "Testing the implementation"
   ]
  },
  {
   "cell_type": "code",
   "execution_count": 12,
   "metadata": {},
   "outputs": [],
   "source": [
    "hydrogen = Atom('H', 1, 1)\n",
    "carbon = Atom('C', 6, 6)\n",
    "oxygen = Atom('O', 8, 8)"
   ]
  },
  {
   "cell_type": "code",
   "execution_count": 13,
   "metadata": {},
   "outputs": [
    {
     "name": "stdout",
     "output_type": "stream",
     "text": [
      "H2O\n",
      "CO2\n",
      "H2OCO2\n"
     ]
    }
   ],
   "source": [
    "water = Molecule( [ (hydrogen, 2), (oxygen, 1) ] )\n",
    "print (water) # H2O\n",
    "\n",
    "co2 = Molecule( [ (carbon, 1), (oxygen, 2) ])\n",
    "print(co2) #CO2\n",
    "\n",
    "print (water + co2) # H2OCO2"
   ]
  },
  {
   "cell_type": "markdown",
   "metadata": {},
   "source": [
    "### Assignment 3: The Chloroplast class"
   ]
  },
  {
   "cell_type": "code",
   "execution_count": 25,
   "metadata": {},
   "outputs": [],
   "source": [
    "class Chloroplast:\n",
    "    '''Photosynthesis process'''\n",
    "    def __init__(self, water=0, co2=0):\n",
    "        self.water = water\n",
    "        self.co2 = co2\n",
    "        \n",
    "    def add_molecule(self, els):\n",
    "        '''Adding water or carbon dioxide'''\n",
    "        for water_mol, co2_mol in els:\n",
    "            print(water_mol)\n",
    "            print(co2_mol)\n",
    "        # if ():\n",
    "        #     raise ValueError('This is not a water or co2 molecule')\n",
    "        # else:\n",
    "        #     self.water =\n",
    "        #     self.co2 =     \n",
    "        # return #list of tuples [(C6H12O6, 02)]\n",
    "\n",
    "\n",
    "\n",
    "        # if self.symbol == other.symbol:\n",
    "        #     return self.mass_number() > other.mass_number()\n",
    "        # else:\n",
    "        #     # Raise an exception if elements are different\n",
    "        #     raise ValueError(\"Cannot compare isotopes of different elements\")\n",
    "        "
   ]
  },
  {
   "cell_type": "code",
   "execution_count": 14,
   "metadata": {},
   "outputs": [
    {
     "name": "stdout",
     "output_type": "stream",
     "text": [
      "H2O\n"
     ]
    }
   ],
   "source": [
    "water = Molecule( [ (hydrogen, 2), (oxygen, 1) ] )\n",
    "\n",
    "print(water)"
   ]
  },
  {
   "cell_type": "code",
   "execution_count": 15,
   "metadata": {},
   "outputs": [
    {
     "name": "stdout",
     "output_type": "stream",
     "text": [
      "CO2\n"
     ]
    }
   ],
   "source": [
    "co2 = Molecule( [ (carbon, 1), (oxygen, 2) ])\n",
    "print(co2)"
   ]
  },
  {
   "cell_type": "code",
   "execution_count": 449,
   "metadata": {},
   "outputs": [],
   "source": [
    "class Chloroplast:\n",
    "    '''Photosynthesis process'''\n",
    "    def __init__(self, water=0, co2=0):\n",
    "        self.water = water\n",
    "        self.co2 = co2\n",
    "        self.products_counter = 0\n",
    "        \n",
    "        \n",
    "    def add_molecule(self, molecule):\n",
    "        '''Adding water or carbon dioxide and creating oxigen and sugar when \n",
    "        photosynthesis is made'''\n",
    "        molecules_list = []        \n",
    "        if (str(molecule) == \"H2O\"):\n",
    "            self.water += 1\n",
    "            print('Water molecule added')\n",
    "        elif (str(molecule) == \"CO2\"):\n",
    "            self.co2 += 1\n",
    "            print('Carbon dioxide molecule added')    \n",
    "        else:\n",
    "            # Erorr that is going to be raised if the molecule added is not water or co2\n",
    "            raise ValueError(f'{molecule} is not a water or co2 molecule')\n",
    "        \n",
    "        if self.water >= 12 and self.co2 >= 6:  \n",
    "            print('Photosynthesis!')\n",
    "            self.products_counter +=1 \n",
    "            self.water -= 12 \n",
    "            self.co2 -= 6   \n",
    "\n",
    "        tuple_water = ('H20', self.water)\n",
    "        tuple_co2 = ('CO2',self.co2)\n",
    "        tuple_sugar = ('C6H12O6', self.products_counter)\n",
    "        tuple_oxygen = ('O2', self.products_counter)\n",
    "        \n",
    "        molecules_list.extend([tuple_water, tuple_co2, tuple_sugar, tuple_oxygen])\n",
    "\n",
    "        return molecules_list\n"
   ]
  },
  {
   "cell_type": "code",
   "execution_count": 436,
   "metadata": {},
   "outputs": [
    {
     "name": "stdout",
     "output_type": "stream",
     "text": [
      "<__main__.Chloroplast object at 0x7f245cd400d0>\n"
     ]
    }
   ],
   "source": [
    "demo = Chloroplast()\n",
    "print(demo)\n"
   ]
  },
  {
   "cell_type": "code",
   "execution_count": 448,
   "metadata": {},
   "outputs": [
    {
     "name": "stdout",
     "output_type": "stream",
     "text": [
      "Water molecule added\n",
      "Photosynthesis!\n",
      "[('H20', 0), ('CO2', 5), ('C6H12O6', 1), ('O2', 1)]\n",
      "Carbon dioxide molecule added\n",
      "[('H20', 0), ('CO2', 6), ('C6H12O6', 1), ('O2', 1)]\n"
     ]
    }
   ],
   "source": [
    "print(demo.add_molecule(water))\n",
    "print(demo.add_molecule(co2))"
   ]
  },
  {
   "cell_type": "code",
   "execution_count": 450,
   "metadata": {},
   "outputs": [
    {
     "name": "stdout",
     "output_type": "stream",
     "text": [
      "\n",
      "What molecule would you like to add?\n",
      "[1] Water\n",
      "[2] Carbondioxyde\n",
      "Please enter your choice: Water molecule added\n",
      "\n",
      "=== Photosynthesis!\n",
      "[('H20', 1), ('CO2', 0), ('C6H12O6', 0), ('O2', 0)]\n",
      "<__main__.Chloroplast object at 0x7f245cd40700>\n",
      "\n",
      "What molecule would you like to add?\n",
      "[1] Water\n",
      "[2] Carbondioxyde\n",
      "Please enter your choice: Water molecule added\n",
      "\n",
      "=== Photosynthesis!\n",
      "[('H20', 2), ('CO2', 0), ('C6H12O6', 0), ('O2', 0)]\n",
      "<__main__.Chloroplast object at 0x7f245cd40700>\n",
      "\n",
      "What molecule would you like to add?\n",
      "[1] Water\n",
      "[2] Carbondioxyde\n",
      "Please enter your choice: Water molecule added\n",
      "\n",
      "=== Photosynthesis!\n",
      "[('H20', 3), ('CO2', 0), ('C6H12O6', 0), ('O2', 0)]\n",
      "<__main__.Chloroplast object at 0x7f245cd40700>\n",
      "\n",
      "What molecule would you like to add?\n",
      "[1] Water\n",
      "[2] Carbondioxyde\n",
      "Please enter your choice: Water molecule added\n",
      "\n",
      "=== Photosynthesis!\n",
      "[('H20', 4), ('CO2', 0), ('C6H12O6', 0), ('O2', 0)]\n",
      "<__main__.Chloroplast object at 0x7f245cd40700>\n",
      "\n",
      "What molecule would you like to add?\n",
      "[1] Water\n",
      "[2] Carbondioxyde\n",
      "Please enter your choice: Water molecule added\n",
      "\n",
      "=== Photosynthesis!\n",
      "[('H20', 5), ('CO2', 0), ('C6H12O6', 0), ('O2', 0)]\n",
      "<__main__.Chloroplast object at 0x7f245cd40700>\n",
      "\n",
      "What molecule would you like to add?\n",
      "[1] Water\n",
      "[2] Carbondioxyde\n",
      "Please enter your choice: Water molecule added\n",
      "\n",
      "=== Photosynthesis!\n",
      "[('H20', 6), ('CO2', 0), ('C6H12O6', 0), ('O2', 0)]\n",
      "<__main__.Chloroplast object at 0x7f245cd40700>\n",
      "\n",
      "What molecule would you like to add?\n",
      "[1] Water\n",
      "[2] Carbondioxyde\n",
      "Please enter your choice: Water molecule added\n",
      "\n",
      "=== Photosynthesis!\n",
      "[('H20', 7), ('CO2', 0), ('C6H12O6', 0), ('O2', 0)]\n",
      "<__main__.Chloroplast object at 0x7f245cd40700>\n",
      "\n",
      "What molecule would you like to add?\n",
      "[1] Water\n",
      "[2] Carbondioxyde\n",
      "Please enter your choice: Water molecule added\n",
      "\n",
      "=== Photosynthesis!\n",
      "[('H20', 8), ('CO2', 0), ('C6H12O6', 0), ('O2', 0)]\n",
      "<__main__.Chloroplast object at 0x7f245cd40700>\n",
      "\n",
      "What molecule would you like to add?\n",
      "[1] Water\n",
      "[2] Carbondioxyde\n",
      "Please enter your choice: Water molecule added\n",
      "\n",
      "=== Photosynthesis!\n",
      "[('H20', 9), ('CO2', 0), ('C6H12O6', 0), ('O2', 0)]\n",
      "<__main__.Chloroplast object at 0x7f245cd40700>\n",
      "\n",
      "What molecule would you like to add?\n",
      "[1] Water\n",
      "[2] Carbondioxyde\n",
      "Please enter your choice: Water molecule added\n",
      "\n",
      "=== Photosynthesis!\n",
      "[('H20', 10), ('CO2', 0), ('C6H12O6', 0), ('O2', 0)]\n",
      "<__main__.Chloroplast object at 0x7f245cd40700>\n",
      "\n",
      "What molecule would you like to add?\n",
      "[1] Water\n",
      "[2] Carbondioxyde\n",
      "Please enter your choice: Water molecule added\n",
      "\n",
      "=== Photosynthesis!\n",
      "[('H20', 11), ('CO2', 0), ('C6H12O6', 0), ('O2', 0)]\n",
      "<__main__.Chloroplast object at 0x7f245cd40700>\n",
      "\n",
      "What molecule would you like to add?\n",
      "[1] Water\n",
      "[2] Carbondioxyde\n",
      "Please enter your choice: Water molecule added\n",
      "\n",
      "=== Photosynthesis!\n",
      "[('H20', 12), ('CO2', 0), ('C6H12O6', 0), ('O2', 0)]\n",
      "<__main__.Chloroplast object at 0x7f245cd40700>\n",
      "\n",
      "What molecule would you like to add?\n",
      "[1] Water\n",
      "[2] Carbondioxyde\n",
      "Please enter your choice: Carbon dioxide molecule added\n",
      "\n",
      "=== Photosynthesis!\n",
      "[('H20', 12), ('CO2', 1), ('C6H12O6', 0), ('O2', 0)]\n",
      "<__main__.Chloroplast object at 0x7f245cd40700>\n",
      "\n",
      "What molecule would you like to add?\n",
      "[1] Water\n",
      "[2] Carbondioxyde\n",
      "Please enter your choice: Carbon dioxide molecule added\n",
      "\n",
      "=== Photosynthesis!\n",
      "[('H20', 12), ('CO2', 2), ('C6H12O6', 0), ('O2', 0)]\n",
      "<__main__.Chloroplast object at 0x7f245cd40700>\n",
      "\n",
      "What molecule would you like to add?\n",
      "[1] Water\n",
      "[2] Carbondioxyde\n",
      "Please enter your choice: Carbon dioxide molecule added\n",
      "\n",
      "=== Photosynthesis!\n",
      "[('H20', 12), ('CO2', 3), ('C6H12O6', 0), ('O2', 0)]\n",
      "<__main__.Chloroplast object at 0x7f245cd40700>\n",
      "\n",
      "What molecule would you like to add?\n",
      "[1] Water\n",
      "[2] Carbondioxyde\n",
      "Please enter your choice: Carbon dioxide molecule added\n",
      "\n",
      "=== Photosynthesis!\n",
      "[('H20', 12), ('CO2', 4), ('C6H12O6', 0), ('O2', 0)]\n",
      "<__main__.Chloroplast object at 0x7f245cd40700>\n",
      "\n",
      "What molecule would you like to add?\n",
      "[1] Water\n",
      "[2] Carbondioxyde\n",
      "Please enter your choice: Carbon dioxide molecule added\n",
      "\n",
      "=== Photosynthesis!\n",
      "[('H20', 12), ('CO2', 5), ('C6H12O6', 0), ('O2', 0)]\n",
      "<__main__.Chloroplast object at 0x7f245cd40700>\n",
      "\n",
      "What molecule would you like to add?\n",
      "[1] Water\n",
      "[2] Carbondioxyde\n",
      "Please enter your choice: Carbon dioxide molecule added\n",
      "Photosynthesis!\n",
      "\n",
      "=== Photosynthesis!\n",
      "[('H20', 0), ('CO2', 0), ('C6H12O6', 1), ('O2', 1)]\n",
      "<__main__.Chloroplast object at 0x7f245cd40700>\n",
      "\n",
      "What molecule would you like to add?\n",
      "[1] Water\n",
      "[2] Carbondioxyde\n",
      "Please enter your choice: \n",
      "=== That is not a valid choice.\n",
      "\n",
      "What molecule would you like to add?\n",
      "[1] Water\n",
      "[2] Carbondioxyde\n",
      "Please enter your choice: \n",
      "=== That is not a valid choice.\n",
      "\n",
      "What molecule would you like to add?\n",
      "[1] Water\n",
      "[2] Carbondioxyde\n",
      "Please enter your choice: \n",
      "=== That is not a valid choice.\n",
      "\n",
      "What molecule would you like to add?\n",
      "[1] Water\n",
      "[2] Carbondioxyde\n",
      "Please enter your choice: "
     ]
    },
    {
     "ename": "KeyboardInterrupt",
     "evalue": "Interrupted by user",
     "output_type": "error",
     "traceback": [
      "\u001b[0;31m---------------------------------------------------------------------------\u001b[0m",
      "\u001b[0;31mKeyboardInterrupt\u001b[0m                         Traceback (most recent call last)",
      "Input \u001b[0;32mIn [450]\u001b[0m, in \u001b[0;36m<cell line: 6>\u001b[0;34m()\u001b[0m\n\u001b[1;32m     10\u001b[0m \u001b[38;5;28mprint\u001b[39m (\u001b[38;5;124m'\u001b[39m\u001b[38;5;124mPlease enter your choice: \u001b[39m\u001b[38;5;124m'\u001b[39m, end\u001b[38;5;241m=\u001b[39m\u001b[38;5;124m'\u001b[39m\u001b[38;5;124m'\u001b[39m)\n\u001b[1;32m     11\u001b[0m \u001b[38;5;28;01mtry\u001b[39;00m:\n\u001b[0;32m---> 12\u001b[0m     choice \u001b[38;5;241m=\u001b[39m \u001b[38;5;28mint\u001b[39m(\u001b[38;5;28;43minput\u001b[39;49m\u001b[43m(\u001b[49m\u001b[43m)\u001b[49m)\n\u001b[1;32m     13\u001b[0m     res \u001b[38;5;241m=\u001b[39m demo\u001b[38;5;241m.\u001b[39madd_molecule(els[choice\u001b[38;5;241m-\u001b[39m\u001b[38;5;241m1\u001b[39m])\n\u001b[1;32m     14\u001b[0m     \u001b[38;5;28;01mif\u001b[39;00m (\u001b[38;5;28mlen\u001b[39m(res)\u001b[38;5;241m==\u001b[39m\u001b[38;5;241m0\u001b[39m):\n",
      "File \u001b[0;32m/commons/conda/dsls/lib/python3.10/site-packages/ipykernel/kernelbase.py:1177\u001b[0m, in \u001b[0;36mKernel.raw_input\u001b[0;34m(self, prompt)\u001b[0m\n\u001b[1;32m   1173\u001b[0m \u001b[38;5;28;01mif\u001b[39;00m \u001b[38;5;129;01mnot\u001b[39;00m \u001b[38;5;28mself\u001b[39m\u001b[38;5;241m.\u001b[39m_allow_stdin:\n\u001b[1;32m   1174\u001b[0m     \u001b[38;5;28;01mraise\u001b[39;00m StdinNotImplementedError(\n\u001b[1;32m   1175\u001b[0m         \u001b[38;5;124m\"\u001b[39m\u001b[38;5;124mraw_input was called, but this frontend does not support input requests.\u001b[39m\u001b[38;5;124m\"\u001b[39m\n\u001b[1;32m   1176\u001b[0m     )\n\u001b[0;32m-> 1177\u001b[0m \u001b[38;5;28;01mreturn\u001b[39;00m \u001b[38;5;28;43mself\u001b[39;49m\u001b[38;5;241;43m.\u001b[39;49m\u001b[43m_input_request\u001b[49m\u001b[43m(\u001b[49m\n\u001b[1;32m   1178\u001b[0m \u001b[43m    \u001b[49m\u001b[38;5;28;43mstr\u001b[39;49m\u001b[43m(\u001b[49m\u001b[43mprompt\u001b[49m\u001b[43m)\u001b[49m\u001b[43m,\u001b[49m\n\u001b[1;32m   1179\u001b[0m \u001b[43m    \u001b[49m\u001b[38;5;28;43mself\u001b[39;49m\u001b[38;5;241;43m.\u001b[39;49m\u001b[43m_parent_ident\u001b[49m\u001b[43m[\u001b[49m\u001b[38;5;124;43m\"\u001b[39;49m\u001b[38;5;124;43mshell\u001b[39;49m\u001b[38;5;124;43m\"\u001b[39;49m\u001b[43m]\u001b[49m\u001b[43m,\u001b[49m\n\u001b[1;32m   1180\u001b[0m \u001b[43m    \u001b[49m\u001b[38;5;28;43mself\u001b[39;49m\u001b[38;5;241;43m.\u001b[39;49m\u001b[43mget_parent\u001b[49m\u001b[43m(\u001b[49m\u001b[38;5;124;43m\"\u001b[39;49m\u001b[38;5;124;43mshell\u001b[39;49m\u001b[38;5;124;43m\"\u001b[39;49m\u001b[43m)\u001b[49m\u001b[43m,\u001b[49m\n\u001b[1;32m   1181\u001b[0m \u001b[43m    \u001b[49m\u001b[43mpassword\u001b[49m\u001b[38;5;241;43m=\u001b[39;49m\u001b[38;5;28;43;01mFalse\u001b[39;49;00m\u001b[43m,\u001b[49m\n\u001b[1;32m   1182\u001b[0m \u001b[43m\u001b[49m\u001b[43m)\u001b[49m\n",
      "File \u001b[0;32m/commons/conda/dsls/lib/python3.10/site-packages/ipykernel/kernelbase.py:1219\u001b[0m, in \u001b[0;36mKernel._input_request\u001b[0;34m(self, prompt, ident, parent, password)\u001b[0m\n\u001b[1;32m   1216\u001b[0m             \u001b[38;5;28;01mbreak\u001b[39;00m\n\u001b[1;32m   1217\u001b[0m \u001b[38;5;28;01mexcept\u001b[39;00m \u001b[38;5;167;01mKeyboardInterrupt\u001b[39;00m:\n\u001b[1;32m   1218\u001b[0m     \u001b[38;5;66;03m# re-raise KeyboardInterrupt, to truncate traceback\u001b[39;00m\n\u001b[0;32m-> 1219\u001b[0m     \u001b[38;5;28;01mraise\u001b[39;00m \u001b[38;5;167;01mKeyboardInterrupt\u001b[39;00m(\u001b[38;5;124m\"\u001b[39m\u001b[38;5;124mInterrupted by user\u001b[39m\u001b[38;5;124m\"\u001b[39m) \u001b[38;5;28;01mfrom\u001b[39;00m \u001b[38;5;28mNone\u001b[39m\n\u001b[1;32m   1220\u001b[0m \u001b[38;5;28;01mexcept\u001b[39;00m \u001b[38;5;167;01mException\u001b[39;00m:\n\u001b[1;32m   1221\u001b[0m     \u001b[38;5;28mself\u001b[39m\u001b[38;5;241m.\u001b[39mlog\u001b[38;5;241m.\u001b[39mwarning(\u001b[38;5;124m\"\u001b[39m\u001b[38;5;124mInvalid Message:\u001b[39m\u001b[38;5;124m\"\u001b[39m, exc_info\u001b[38;5;241m=\u001b[39m\u001b[38;5;28;01mTrue\u001b[39;00m)\n",
      "\u001b[0;31mKeyboardInterrupt\u001b[0m: Interrupted by user"
     ]
    }
   ],
   "source": [
    "water = Molecule( [ (hydrogen, 2), (oxygen, 1) ] )\n",
    "co2 = Molecule( [ (carbon, 1), (oxygen, 2) ])\n",
    "demo = Chloroplast()\n",
    "els = [water, co2]\n",
    "\n",
    "while (True):\n",
    "    print ('\\nWhat molecule would you like to add?')\n",
    "    print ('[1] Water')\n",
    "    print ('[2] Carbondioxyde')\n",
    "    print ('Please enter your choice: ', end='')\n",
    "    try:\n",
    "        choice = int(input())\n",
    "        res = demo.add_molecule(els[choice-1])\n",
    "        if (len(res)==0):\n",
    "            print (demo)\n",
    "        else:\n",
    "            print ('\\n=== Photosynthesis!')\n",
    "            print (res)\n",
    "            print (demo)\n",
    "\n",
    "    except Exception:\n",
    "        print ('\\n=== That is not a valid choice.')"
   ]
  }
 ],
 "metadata": {
  "kernelspec": {
   "display_name": "Python 3",
   "language": "python",
   "name": "python3"
  },
  "language_info": {
   "codemirror_mode": {
    "name": "ipython",
    "version": 3
   },
   "file_extension": ".py",
   "mimetype": "text/x-python",
   "name": "python",
   "nbconvert_exporter": "python",
   "pygments_lexer": "ipython3",
   "version": "3.10.8"
  },
  "orig_nbformat": 4
 },
 "nbformat": 4,
 "nbformat_minor": 2
}
