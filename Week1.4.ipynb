{
 "cells": [
  {
   "cell_type": "markdown",
   "metadata": {},
   "source": [
    "# Week 1.4: Generators and Map Reduce \n",
    "Author: Juana Karina Diaz Barba\n",
    "  \n",
    "\n",
    "  \n",
    "### Exercise 1: refactoring your own code.\n",
    "In this exercise I was asked to replace the for-loops created in **week1.3 Multiple-class** for lists-comprehensions.  \n",
    "\n",
    "In my current implementation of the classes I already use list-comprehensions. I have sumarized them here:\n",
    "- In the **AverageYear** class I use one to get the average value per month do not taking into account the keys which are not months:   \n",
    "     ```monthly_values = [eval(value) for key, value in year_data.items() if key in self.months]```\n",
    "- In the **AverageMonth** class I use one to create a empty dictionary with the months as keys:  \n",
    "```self.month_mean = {month: [] for month in self.months}```\n",
    "- In the **AverageMonth** class I use one list-comprehensions to collect the monthly temperature anomalies in a period of 5 years:  \n",
    "```[self.month_mean[month].append(float(year_data[month])) for month in self.months if month in year_data]```  \n",
    "- In the **AverageMonth** class I use one to calculate the mean per month:  \n",
    "```monthly_means = {month: mean(temperatures) for month, temperatures in self.month_mean.items()}```"
   ]
  },
  {
   "cell_type": "markdown",
   "metadata": {},
   "source": [
    "### Exercise 2: functions with data  \n",
    "Create a function that has two parameters: one for data (you can assume this to be a list) and one for the function to be applied to that data. Let the function return a list with new values that are created by applying the function to all the values."
   ]
  },
  {
   "cell_type": "code",
   "execution_count": 22,
   "metadata": {},
   "outputs": [
    {
     "data": {
      "text/plain": [
       "[0.0,\n",
       " 3.141592653589793,\n",
       " 12.566370614359172,\n",
       " 28.274333882308138,\n",
       " 50.26548245743669,\n",
       " 78.53981633974483,\n",
       " 113.09733552923255,\n",
       " 153.93804002589985,\n",
       " 201.06192982974676,\n",
       " 254.46900494077323]"
      ]
     },
     "execution_count": 22,
     "metadata": {},
     "output_type": "execute_result"
    }
   ],
   "source": [
    "import math\n",
    "def circle_area(radius_list):\n",
    "    '''Function to calculate the area of a circle'''\n",
    "    area_list =[math.pi * math.pow(radius, 2)  for radius in radius_list]\n",
    "    return area_list\n",
    "\n",
    "# Generate a list with random numbers\n",
    "radius_data = list(range(10))\n",
    "radius_data\n",
    "circle_area(radius_data)"
   ]
  },
  {
   "cell_type": "markdown",
   "metadata": {},
   "source": [
    "Now enhance your function so that it can take in an arbitrary number of functions that all need to be applied to the given data.  \n",
    "\n",
    "So if I were to give two functions to this function, it should return a list of two lists.  Make use of list comprehensions in your elaboration."
   ]
  },
  {
   "cell_type": "code",
   "execution_count": 27,
   "metadata": {},
   "outputs": [],
   "source": [
    "# Creating a function with a variable number of arguments, functions in this case\n",
    "def cicle_calculations(radius_list, *functions):\n",
    "    '''Make circle calculations. It takes an arbitrary number of functions \n",
    "    provided by the user and are applied to the same set of data'''\n",
    "    results_list = []\n",
    "    for funct in functions:\n",
    "        temp_results = [funct(radius) for radius in radius_list]\n",
    "        results_list.append(temp_results)\n",
    "    return results_list"
   ]
  },
  {
   "cell_type": "markdown",
   "metadata": {},
   "source": [
    "Testing the implementation with one function"
   ]
  },
  {
   "cell_type": "code",
   "execution_count": 30,
   "metadata": {},
   "outputs": [
    {
     "name": "stdout",
     "output_type": "stream",
     "text": [
      "[0, 1, 2, 3, 4]\n",
      "[[0.0, 3.141592653589793, 12.566370614359172, 28.274333882308138, 50.26548245743669]]\n"
     ]
    }
   ],
   "source": [
    "# Generate a list with random numbers which are going to be the radius\n",
    "radius_data = list(range(5))\n",
    "print(radius_data)\n",
    "\n",
    "# Define functions to be applied\n",
    "functions = [lambda x: math.pi * math.pow(x, 2)] # Calculates circle area\n",
    "\n",
    "# Apply functions to the data\n",
    "result = cicle_calculations(radius_data, *functions)\n",
    "print(result)"
   ]
  },
  {
   "cell_type": "markdown",
   "metadata": {},
   "source": [
    "Testing the implementation with two functions"
   ]
  },
  {
   "cell_type": "code",
   "execution_count": 32,
   "metadata": {},
   "outputs": [
    {
     "name": "stdout",
     "output_type": "stream",
     "text": [
      "[[0.0, 3.141592653589793, 12.566370614359172, 28.274333882308138, 50.26548245743669], [0.0, 6.283185307179586, 12.566370614359172, 18.84955592153876, 25.132741228718345]]\n"
     ]
    }
   ],
   "source": [
    "functions = [lambda x: math.pi * math.pow(x, 2),  # Calculates circle area\n",
    "             lambda x: math.pi * x * 2]            # Calculates circle perimeter\n",
    "\n",
    "# Apply functions to the data\n",
    "result = cicle_calculations(radius_data, *functions)\n",
    "print(result)"
   ]
  },
  {
   "cell_type": "markdown",
   "metadata": {},
   "source": [
    "### Exercise 3: refactoring other people's code."
   ]
  },
  {
   "cell_type": "markdown",
   "metadata": {},
   "source": [
    "Code donwloaded to be refactored:"
   ]
  },
  {
   "cell_type": "code",
   "execution_count": 33,
   "metadata": {},
   "outputs": [
    {
     "name": "stdout",
     "output_type": "stream",
     "text": [
      "fetch urls\n"
     ]
    },
    {
     "ename": "HTTPError",
     "evalue": "HTTP Error 308: Permanent Redirect",
     "output_type": "error",
     "traceback": [
      "\u001b[0;31m---------------------------------------------------------------------------\u001b[0m",
      "\u001b[0;31mHTTPError\u001b[0m                                 Traceback (most recent call last)",
      "Input \u001b[0;32mIn [33]\u001b[0m, in \u001b[0;36m<cell line: 92>\u001b[0;34m()\u001b[0m\n\u001b[1;32m     90\u001b[0m \u001b[38;5;28mprint\u001b[39m (\u001b[38;5;124m'\u001b[39m\u001b[38;5;124mfetch urls\u001b[39m\u001b[38;5;124m'\u001b[39m)\n\u001b[1;32m     91\u001b[0m url \u001b[38;5;241m=\u001b[39m \u001b[38;5;124m\"\u001b[39m\u001b[38;5;124mhttps://sport050.nl/sportaanbieders/alle-aanbieders/\u001b[39m\u001b[38;5;124m\"\u001b[39m\n\u001b[0;32m---> 92\u001b[0m s \u001b[38;5;241m=\u001b[39m \u001b[43mopen_url\u001b[49m\u001b[43m(\u001b[49m\u001b[43murl\u001b[49m\u001b[43m)\u001b[49m\n\u001b[1;32m     93\u001b[0m reflist \u001b[38;5;241m=\u001b[39m read_hrefs(s)\n\u001b[1;32m     95\u001b[0m \u001b[38;5;28mprint\u001b[39m (\u001b[38;5;124m'\u001b[39m\u001b[38;5;124mgetting sub-urls\u001b[39m\u001b[38;5;124m'\u001b[39m)\n",
      "Input \u001b[0;32mIn [33]\u001b[0m, in \u001b[0;36mopen_url\u001b[0;34m(url)\u001b[0m\n\u001b[1;32m     23\u001b[0m \u001b[38;5;124;03m\"\"\" reads url file as a big string and cleans the html file to make it\u001b[39;00m\n\u001b[1;32m     24\u001b[0m \u001b[38;5;124;03m    more readable. input: url, output: soup object\u001b[39;00m\n\u001b[1;32m     25\u001b[0m \u001b[38;5;124;03m\"\"\"\u001b[39;00m\n\u001b[1;32m     26\u001b[0m ctx \u001b[38;5;241m=\u001b[39m hack_ssl()\n\u001b[0;32m---> 27\u001b[0m html \u001b[38;5;241m=\u001b[39m \u001b[43murllib\u001b[49m\u001b[38;5;241;43m.\u001b[39;49m\u001b[43mrequest\u001b[49m\u001b[38;5;241;43m.\u001b[39;49m\u001b[43murlopen\u001b[49m\u001b[43m(\u001b[49m\u001b[43murl\u001b[49m\u001b[43m,\u001b[49m\u001b[43m \u001b[49m\u001b[43mcontext\u001b[49m\u001b[38;5;241;43m=\u001b[39;49m\u001b[43mctx\u001b[49m\u001b[43m)\u001b[49m\u001b[38;5;241m.\u001b[39mread()\n\u001b[1;32m     28\u001b[0m soup \u001b[38;5;241m=\u001b[39m BeautifulSoup(html, \u001b[38;5;124m'\u001b[39m\u001b[38;5;124mhtml.parser\u001b[39m\u001b[38;5;124m'\u001b[39m)\n\u001b[1;32m     29\u001b[0m \u001b[38;5;28;01mreturn\u001b[39;00m soup\n",
      "File \u001b[0;32m/commons/conda/dsls/lib/python3.10/urllib/request.py:216\u001b[0m, in \u001b[0;36murlopen\u001b[0;34m(url, data, timeout, cafile, capath, cadefault, context)\u001b[0m\n\u001b[1;32m    214\u001b[0m \u001b[38;5;28;01melse\u001b[39;00m:\n\u001b[1;32m    215\u001b[0m     opener \u001b[38;5;241m=\u001b[39m _opener\n\u001b[0;32m--> 216\u001b[0m \u001b[38;5;28;01mreturn\u001b[39;00m \u001b[43mopener\u001b[49m\u001b[38;5;241;43m.\u001b[39;49m\u001b[43mopen\u001b[49m\u001b[43m(\u001b[49m\u001b[43murl\u001b[49m\u001b[43m,\u001b[49m\u001b[43m \u001b[49m\u001b[43mdata\u001b[49m\u001b[43m,\u001b[49m\u001b[43m \u001b[49m\u001b[43mtimeout\u001b[49m\u001b[43m)\u001b[49m\n",
      "File \u001b[0;32m/commons/conda/dsls/lib/python3.10/urllib/request.py:525\u001b[0m, in \u001b[0;36mOpenerDirector.open\u001b[0;34m(self, fullurl, data, timeout)\u001b[0m\n\u001b[1;32m    523\u001b[0m \u001b[38;5;28;01mfor\u001b[39;00m processor \u001b[38;5;129;01min\u001b[39;00m \u001b[38;5;28mself\u001b[39m\u001b[38;5;241m.\u001b[39mprocess_response\u001b[38;5;241m.\u001b[39mget(protocol, []):\n\u001b[1;32m    524\u001b[0m     meth \u001b[38;5;241m=\u001b[39m \u001b[38;5;28mgetattr\u001b[39m(processor, meth_name)\n\u001b[0;32m--> 525\u001b[0m     response \u001b[38;5;241m=\u001b[39m \u001b[43mmeth\u001b[49m\u001b[43m(\u001b[49m\u001b[43mreq\u001b[49m\u001b[43m,\u001b[49m\u001b[43m \u001b[49m\u001b[43mresponse\u001b[49m\u001b[43m)\u001b[49m\n\u001b[1;32m    527\u001b[0m \u001b[38;5;28;01mreturn\u001b[39;00m response\n",
      "File \u001b[0;32m/commons/conda/dsls/lib/python3.10/urllib/request.py:634\u001b[0m, in \u001b[0;36mHTTPErrorProcessor.http_response\u001b[0;34m(self, request, response)\u001b[0m\n\u001b[1;32m    631\u001b[0m \u001b[38;5;66;03m# According to RFC 2616, \"2xx\" code indicates that the client's\u001b[39;00m\n\u001b[1;32m    632\u001b[0m \u001b[38;5;66;03m# request was successfully received, understood, and accepted.\u001b[39;00m\n\u001b[1;32m    633\u001b[0m \u001b[38;5;28;01mif\u001b[39;00m \u001b[38;5;129;01mnot\u001b[39;00m (\u001b[38;5;241m200\u001b[39m \u001b[38;5;241m<\u001b[39m\u001b[38;5;241m=\u001b[39m code \u001b[38;5;241m<\u001b[39m \u001b[38;5;241m300\u001b[39m):\n\u001b[0;32m--> 634\u001b[0m     response \u001b[38;5;241m=\u001b[39m \u001b[38;5;28;43mself\u001b[39;49m\u001b[38;5;241;43m.\u001b[39;49m\u001b[43mparent\u001b[49m\u001b[38;5;241;43m.\u001b[39;49m\u001b[43merror\u001b[49m\u001b[43m(\u001b[49m\n\u001b[1;32m    635\u001b[0m \u001b[43m        \u001b[49m\u001b[38;5;124;43m'\u001b[39;49m\u001b[38;5;124;43mhttp\u001b[39;49m\u001b[38;5;124;43m'\u001b[39;49m\u001b[43m,\u001b[49m\u001b[43m \u001b[49m\u001b[43mrequest\u001b[49m\u001b[43m,\u001b[49m\u001b[43m \u001b[49m\u001b[43mresponse\u001b[49m\u001b[43m,\u001b[49m\u001b[43m \u001b[49m\u001b[43mcode\u001b[49m\u001b[43m,\u001b[49m\u001b[43m \u001b[49m\u001b[43mmsg\u001b[49m\u001b[43m,\u001b[49m\u001b[43m \u001b[49m\u001b[43mhdrs\u001b[49m\u001b[43m)\u001b[49m\n\u001b[1;32m    637\u001b[0m \u001b[38;5;28;01mreturn\u001b[39;00m response\n",
      "File \u001b[0;32m/commons/conda/dsls/lib/python3.10/urllib/request.py:563\u001b[0m, in \u001b[0;36mOpenerDirector.error\u001b[0;34m(self, proto, *args)\u001b[0m\n\u001b[1;32m    561\u001b[0m \u001b[38;5;28;01mif\u001b[39;00m http_err:\n\u001b[1;32m    562\u001b[0m     args \u001b[38;5;241m=\u001b[39m (\u001b[38;5;28mdict\u001b[39m, \u001b[38;5;124m'\u001b[39m\u001b[38;5;124mdefault\u001b[39m\u001b[38;5;124m'\u001b[39m, \u001b[38;5;124m'\u001b[39m\u001b[38;5;124mhttp_error_default\u001b[39m\u001b[38;5;124m'\u001b[39m) \u001b[38;5;241m+\u001b[39m orig_args\n\u001b[0;32m--> 563\u001b[0m     \u001b[38;5;28;01mreturn\u001b[39;00m \u001b[38;5;28;43mself\u001b[39;49m\u001b[38;5;241;43m.\u001b[39;49m\u001b[43m_call_chain\u001b[49m\u001b[43m(\u001b[49m\u001b[38;5;241;43m*\u001b[39;49m\u001b[43margs\u001b[49m\u001b[43m)\u001b[49m\n",
      "File \u001b[0;32m/commons/conda/dsls/lib/python3.10/urllib/request.py:496\u001b[0m, in \u001b[0;36mOpenerDirector._call_chain\u001b[0;34m(self, chain, kind, meth_name, *args)\u001b[0m\n\u001b[1;32m    494\u001b[0m \u001b[38;5;28;01mfor\u001b[39;00m handler \u001b[38;5;129;01min\u001b[39;00m handlers:\n\u001b[1;32m    495\u001b[0m     func \u001b[38;5;241m=\u001b[39m \u001b[38;5;28mgetattr\u001b[39m(handler, meth_name)\n\u001b[0;32m--> 496\u001b[0m     result \u001b[38;5;241m=\u001b[39m \u001b[43mfunc\u001b[49m\u001b[43m(\u001b[49m\u001b[38;5;241;43m*\u001b[39;49m\u001b[43margs\u001b[49m\u001b[43m)\u001b[49m\n\u001b[1;32m    497\u001b[0m     \u001b[38;5;28;01mif\u001b[39;00m result \u001b[38;5;129;01mis\u001b[39;00m \u001b[38;5;129;01mnot\u001b[39;00m \u001b[38;5;28;01mNone\u001b[39;00m:\n\u001b[1;32m    498\u001b[0m         \u001b[38;5;28;01mreturn\u001b[39;00m result\n",
      "File \u001b[0;32m/commons/conda/dsls/lib/python3.10/urllib/request.py:643\u001b[0m, in \u001b[0;36mHTTPDefaultErrorHandler.http_error_default\u001b[0;34m(self, req, fp, code, msg, hdrs)\u001b[0m\n\u001b[1;32m    642\u001b[0m \u001b[38;5;28;01mdef\u001b[39;00m \u001b[38;5;21mhttp_error_default\u001b[39m(\u001b[38;5;28mself\u001b[39m, req, fp, code, msg, hdrs):\n\u001b[0;32m--> 643\u001b[0m     \u001b[38;5;28;01mraise\u001b[39;00m HTTPError(req\u001b[38;5;241m.\u001b[39mfull_url, code, msg, hdrs, fp)\n",
      "\u001b[0;31mHTTPError\u001b[0m: HTTP Error 308: Permanent Redirect"
     ]
    }
   ],
   "source": [
    "\"\"\" \n",
    "This is a crawler program using beautifulsoup.\n",
    "It crawls the website \"https://sport050.nl/sportaanbieders/alle-aanbieders/\"\n",
    "and fetches all the sport suppliers in the city of Groningen. It outputs \n",
    "a csv-file with the url;phone-number;email-address of all the suppliers it can find.\n",
    "\"\"\"\n",
    "\n",
    "import urllib.request, urllib.parse, urllib.error\n",
    "from bs4 import BeautifulSoup\n",
    "import ssl\n",
    "import re\n",
    "\n",
    "\n",
    "def hack_ssl():\n",
    "    \"\"\" ignores the certificate errors\"\"\"\n",
    "    ctx = ssl.create_default_context()\n",
    "    ctx.check_hostname = False\n",
    "    ctx.verify_mode = ssl.CERT_NONE\n",
    "    return ctx\n",
    "\n",
    "\n",
    "def open_url(url):\n",
    "    \"\"\" reads url file as a big string and cleans the html file to make it\n",
    "        more readable. input: url, output: soup object\n",
    "    \"\"\"\n",
    "    ctx = hack_ssl()\n",
    "    html = urllib.request.urlopen(url, context=ctx).read()\n",
    "    soup = BeautifulSoup(html, 'html.parser')\n",
    "    return soup\n",
    "\n",
    "\n",
    "def read_hrefs(soup):\n",
    "    \"\"\" get from soup object a list of anchor tags,\n",
    "        get the href keys and and prints them. Input: soup object\n",
    "    \"\"\"\n",
    "    reflist = []\n",
    "    tags = soup('a')\n",
    "    for tag in tags:\n",
    "        reflist.append(tag)\n",
    "    return reflist\n",
    "\n",
    "def read_li(soup):\n",
    "    lilist = []\n",
    "    tags = soup('li')\n",
    "    for tag in tags:\n",
    "        lilist.append(tag)\n",
    "    return lilist\n",
    "\n",
    "def get_phone(info):\n",
    "    reg = r\"(?:(?:00|\\+)?[0-9]{4})?(?:[ .-][0-9]{3}){1,5}\"\n",
    "    phone = [s for s in filter(lambda x: 'Telefoon' in str(x), info)]\n",
    "    try:\n",
    "        phone = str(phone[0])\n",
    "    except:\n",
    "        phone = [s for s in filter(lambda x: re.findall(reg, str(x)), info)]\n",
    "        try:\n",
    "            phone = str(phone[0])\n",
    "        except:\n",
    "            phone = \"\"   \n",
    "    return phone.replace('Facebook', '').replace('Telefoon:', '')\n",
    "\n",
    "def get_email(soup):\n",
    "    try: \n",
    "        email = [s for s in filter(lambda x: '@' in str(x), soup)]\n",
    "        email = str(email[0])[4:-5]\n",
    "        bs = BeautifulSoup(email, features=\"html.parser\")\n",
    "        email = bs.find('a').attrs['href'].replace('mailto:', '')\n",
    "    except:\n",
    "        email = \"\"\n",
    "    return email\n",
    "\n",
    "def remove_html_tags(text):\n",
    "    \"\"\"Remove html tags from a string\"\"\"\n",
    "    clean = re.compile('<.*?>')\n",
    "    return re.sub(clean, '', text)\n",
    "\n",
    "def fetch_sidebar(soup):\n",
    "    \"\"\" reads html file as a big string and cleans the html file to make it\n",
    "        more readable. input: html, output: tables\n",
    "    \"\"\"\n",
    "    sidebar = soup.findAll(attrs={'class': 'sidebar'})\n",
    "    return sidebar[0]\n",
    "\n",
    "def extract(url):\n",
    "    text = str(url)\n",
    "    text = text[26:].split('\"')[0] + \"/\"\n",
    "    return text\n",
    "\n",
    "\n",
    "print ('fetch urls')\n",
    "url = \"https://sport050.nl/sportaanbieders/alle-aanbieders/\"\n",
    "s = open_url(url)\n",
    "reflist = read_hrefs(s)\n",
    "\n",
    "print ('getting sub-urls')\n",
    "sub_urls = [s for s in filter(lambda x: '<a href=\"/sportaanbieders' in str(x), reflist)]\n",
    "sub_urls = sub_urls[3:]\n",
    "\n",
    "print ('extracting the data')\n",
    "print (f'{len(sub_urls)} sub-urls')\n",
    "\n",
    "for sub in sub_urls:\n",
    "    try:\n",
    "        sub = extract(sub)\n",
    "        site = url[:-16] + sub\n",
    "        soup = open_url(site)    \n",
    "        info = fetch_sidebar(soup)\n",
    "        info = read_li(info)\n",
    "        phone = get_phone(info)\n",
    "        phone = remove_html_tags(phone).strip()\n",
    "        email = get_email(info)\n",
    "        email = remove_html_tags(email).replace(\"/\",\"\")\n",
    "        print (f'{site} ; {phone} ; {email}')\n",
    "    except Exception as e:\n",
    "        print (e)\n",
    "        exit()\n",
    "\n",
    "    "
   ]
  }
 ],
 "metadata": {
  "kernelspec": {
   "display_name": "Python 3",
   "language": "python",
   "name": "python3"
  },
  "language_info": {
   "codemirror_mode": {
    "name": "ipython",
    "version": 3
   },
   "file_extension": ".py",
   "mimetype": "text/x-python",
   "name": "python",
   "nbconvert_exporter": "python",
   "pygments_lexer": "ipython3",
   "version": "3.10.8"
  }
 },
 "nbformat": 4,
 "nbformat_minor": 2
}
