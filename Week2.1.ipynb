{
 "cells": [
  {
   "cell_type": "markdown",
   "metadata": {},
   "source": [
    "# Week 2.1: Network operations \n",
    "Author: Juana Karina Diaz Barba\n",
    "  \n"
   ]
  },
  {
   "cell_type": "code",
   "execution_count": 8,
   "metadata": {},
   "outputs": [],
   "source": [
    "from http.server import SimpleHTTPRequestHandler as SimpleHandler\n",
    "import socketserver\n",
    "\n",
    "\n",
    "import json\n",
    "\n",
    "from urllib.parse import urlparse, parse_qs\n",
    "\n",
    "\"\"\"NetworkClient Class\"\"\"\n",
    "import asyncio #\n",
    "from aiohttp import ClientSession\n",
    "import json\n",
    "\n",
    "import linecache\n",
    "import time"
   ]
  },
  {
   "cell_type": "code",
   "execution_count": 5,
   "metadata": {},
   "outputs": [],
   "source": [
    "PORT = 8080\n",
    "handler = http.server.SimpleHTTPRequestHandler\n",
    "\n",
    "http = socketserver.TCPServer((\"\", PORT), handler )#ServerHandler\n",
    "print(\"serving at port\", PORT)\n",
    "http.serve_forever()\n"
   ]
  },
  {
   "cell_type": "markdown",
   "metadata": {},
   "source": [
    "### Step 1: check the request"
   ]
  },
  {
   "cell_type": "code",
   "execution_count": 9,
   "metadata": {},
   "outputs": [],
   "source": [
    "class ServerHandler(SimpleHandler):\n",
    "    def do_GET(self):\n",
    "        \"\"\"Serve a GET request.\"\"\"\n",
    "\n",
    "        print(self.path)\n",
    "        self.send_response(200)\n",
    "        self.send_header('Content-type','text/html')\n",
    "        self.send_header('dingen','kerl')\n",
    "        self.end_headers()\n",
    "        self.wfile.write('henk'.encode('utf-8'))\n",
    "\n",
    "# port = 9000\n",
    "# socketserver.TCPServer.allow_reuse_address = True\n",
    "# http = socketserver.TCPServer(('localhost',port), ServerHandler)\n",
    "# print (f'serving on port {port}')\n",
    "# http.serve_forever()"
   ]
  },
  {
   "cell_type": "code",
   "execution_count": 10,
   "metadata": {},
   "outputs": [
    {
     "ename": "OSError",
     "evalue": "[Errno 98] Address already in use",
     "output_type": "error",
     "traceback": [
      "\u001b[0;31m---------------------------------------------------------------------------\u001b[0m",
      "\u001b[0;31mOSError\u001b[0m                                   Traceback (most recent call last)",
      "Input \u001b[0;32mIn [10]\u001b[0m, in \u001b[0;36m<cell line: 4>\u001b[0;34m()\u001b[0m\n\u001b[1;32m      1\u001b[0m PORT \u001b[38;5;241m=\u001b[39m \u001b[38;5;241m8080\u001b[39m\n\u001b[1;32m      2\u001b[0m handler \u001b[38;5;241m=\u001b[39m http\u001b[38;5;241m.\u001b[39mserver\u001b[38;5;241m.\u001b[39mSimpleHTTPRequestHandler\n\u001b[0;32m----> 4\u001b[0m http \u001b[38;5;241m=\u001b[39m \u001b[43msocketserver\u001b[49m\u001b[38;5;241;43m.\u001b[39;49m\u001b[43mTCPServer\u001b[49m\u001b[43m(\u001b[49m\u001b[43m(\u001b[49m\u001b[38;5;124;43m\"\u001b[39;49m\u001b[38;5;124;43m\"\u001b[39;49m\u001b[43m,\u001b[49m\u001b[43m \u001b[49m\u001b[43mPORT\u001b[49m\u001b[43m)\u001b[49m\u001b[43m,\u001b[49m\u001b[43m \u001b[49m\u001b[43mServerHandler\u001b[49m\u001b[43m)\u001b[49m\u001b[38;5;66;03m#\u001b[39;00m\n\u001b[1;32m      5\u001b[0m \u001b[38;5;28mprint\u001b[39m(\u001b[38;5;124m\"\u001b[39m\u001b[38;5;124mserving at port\u001b[39m\u001b[38;5;124m\"\u001b[39m, PORT)\n\u001b[1;32m      6\u001b[0m http\u001b[38;5;241m.\u001b[39mserve_forever()\n",
      "File \u001b[0;32m/commons/conda/dsls/lib/python3.10/socketserver.py:452\u001b[0m, in \u001b[0;36mTCPServer.__init__\u001b[0;34m(self, server_address, RequestHandlerClass, bind_and_activate)\u001b[0m\n\u001b[1;32m    450\u001b[0m \u001b[38;5;28;01mif\u001b[39;00m bind_and_activate:\n\u001b[1;32m    451\u001b[0m     \u001b[38;5;28;01mtry\u001b[39;00m:\n\u001b[0;32m--> 452\u001b[0m         \u001b[38;5;28;43mself\u001b[39;49m\u001b[38;5;241;43m.\u001b[39;49m\u001b[43mserver_bind\u001b[49m\u001b[43m(\u001b[49m\u001b[43m)\u001b[49m\n\u001b[1;32m    453\u001b[0m         \u001b[38;5;28mself\u001b[39m\u001b[38;5;241m.\u001b[39mserver_activate()\n\u001b[1;32m    454\u001b[0m     \u001b[38;5;28;01mexcept\u001b[39;00m:\n",
      "File \u001b[0;32m/commons/conda/dsls/lib/python3.10/socketserver.py:466\u001b[0m, in \u001b[0;36mTCPServer.server_bind\u001b[0;34m(self)\u001b[0m\n\u001b[1;32m    464\u001b[0m \u001b[38;5;28;01mif\u001b[39;00m \u001b[38;5;28mself\u001b[39m\u001b[38;5;241m.\u001b[39mallow_reuse_address:\n\u001b[1;32m    465\u001b[0m     \u001b[38;5;28mself\u001b[39m\u001b[38;5;241m.\u001b[39msocket\u001b[38;5;241m.\u001b[39msetsockopt(socket\u001b[38;5;241m.\u001b[39mSOL_SOCKET, socket\u001b[38;5;241m.\u001b[39mSO_REUSEADDR, \u001b[38;5;241m1\u001b[39m)\n\u001b[0;32m--> 466\u001b[0m \u001b[38;5;28;43mself\u001b[39;49m\u001b[38;5;241;43m.\u001b[39;49m\u001b[43msocket\u001b[49m\u001b[38;5;241;43m.\u001b[39;49m\u001b[43mbind\u001b[49m\u001b[43m(\u001b[49m\u001b[38;5;28;43mself\u001b[39;49m\u001b[38;5;241;43m.\u001b[39;49m\u001b[43mserver_address\u001b[49m\u001b[43m)\u001b[49m\n\u001b[1;32m    467\u001b[0m \u001b[38;5;28mself\u001b[39m\u001b[38;5;241m.\u001b[39mserver_address \u001b[38;5;241m=\u001b[39m \u001b[38;5;28mself\u001b[39m\u001b[38;5;241m.\u001b[39msocket\u001b[38;5;241m.\u001b[39mgetsockname()\n",
      "\u001b[0;31mOSError\u001b[0m: [Errno 98] Address already in use"
     ]
    }
   ],
   "source": [
    "PORT = 8080\n",
    "handler = http.server.SimpleHTTPRequestHandler\n",
    "\n",
    "http = socketserver.TCPServer((\"\", PORT), ServerHandler)#\n",
    "print(\"serving at port\", PORT)\n",
    "http.serve_forever()\n"
   ]
  }
 ],
 "metadata": {
  "kernelspec": {
   "display_name": "Python 3",
   "language": "python",
   "name": "python3"
  },
  "language_info": {
   "codemirror_mode": {
    "name": "ipython",
    "version": 3
   },
   "file_extension": ".py",
   "mimetype": "text/x-python",
   "name": "python",
   "nbconvert_exporter": "python",
   "pygments_lexer": "ipython3",
   "version": "3.10.8"
  },
  "orig_nbformat": 4
 },
 "nbformat": 4,
 "nbformat_minor": 2
}
