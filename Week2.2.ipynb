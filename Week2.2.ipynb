{
 "cells": [
  {
   "cell_type": "markdown",
   "metadata": {},
   "source": [
    "# Week 2.2: Parallellisation\n",
    "Author: Juana Karina Diaz Barba\n",
    "  "
   ]
  },
  {
   "cell_type": "markdown",
   "metadata": {},
   "source": [
    "### Step 1: install and use the biopython package"
   ]
  },
  {
   "cell_type": "code",
   "execution_count": 52,
   "metadata": {},
   "outputs": [],
   "source": [
    "from Bio import Entrez\n",
    "import os\n",
    "import multiprocessing as mp\n",
    "import time \n",
    "\n",
    "# the next two lines are needed to create an environment in which the \n",
    "# ssl doesn't complain about non-existing public keys...\n",
    "import ssl\n",
    "ssl._create_default_https_context = ssl._create_unverified_context\n"
   ]
  },
  {
   "cell_type": "code",
   "execution_count": 53,
   "metadata": {},
   "outputs": [
    {
     "name": "stdout",
     "output_type": "stream",
     "text": [
      "[{'ERROR': [], 'LinkSetDbHistory': [], 'LinkSetDb': [{'Link': [{'Id': '10862343'}, {'Id': '10824403'}, {'Id': '10810535'}, {'Id': '10712917'}, {'Id': '10668443'}, {'Id': '10617710'}, {'Id': '10604399'}, {'Id': '10590010'}, {'Id': '10546998'}, {'Id': '10486119'}, {'Id': '10449449'}, {'Id': '10413913'}, {'Id': '10387313'}, {'Id': '10354302'}, {'Id': '10296546'}, {'Id': '10281569'}, {'Id': '10240642'}, {'Id': '10224495'}, {'Id': '10195063'}, {'Id': '10189984'}, {'Id': '10029973'}, {'Id': '10023427'}, {'Id': '10013231'}, {'Id': '9983048'}, {'Id': '9970664'}, {'Id': '9892353'}, {'Id': '9884887'}, {'Id': '9843110'}, {'Id': '9821373'}, {'Id': '9788541'}, {'Id': '9640424'}, {'Id': '9553271'}, {'Id': '9550025'}, {'Id': '9544891'}, {'Id': '9522633'}, {'Id': '9518073'}, {'Id': '9517012'}, {'Id': '9511241'}, {'Id': '9510112'}, {'Id': '9505332'}, {'Id': '9274363'}, {'Id': '9274335'}, {'Id': '9259961'}, {'Id': '9255267'}, {'Id': '9241475'}, {'Id': '9233012'}, {'Id': '9216484'}, {'Id': '9047029'}, {'Id': '9007843'}, {'Id': '8944180'}, {'Id': '8900724'}, {'Id': '8900470'}, {'Id': '8886176'}, {'Id': '8860903'}, {'Id': '8832600'}, {'Id': '8822421'}, {'Id': '8767730'}, {'Id': '8764740'}, {'Id': '8700835'}, {'Id': '8671734'}, {'Id': '8665940'}, {'Id': '8663079'}, {'Id': '8636824'}, {'Id': '8600343'}, {'Id': '8355211'}, {'Id': '8351482'}, {'Id': '8287384'}, {'Id': '8285468'}, {'Id': '8274250'}, {'Id': '8159085'}, {'Id': '7982513'}, {'Id': '7820374'}, {'Id': '7785626'}, {'Id': '7661370'}, {'Id': '7661268'}, {'Id': '7559120'}, {'Id': '7557385'}, {'Id': '7525587'}, {'Id': '7435551'}, {'Id': '7418773'}, {'Id': '7259862'}, {'Id': '7216302'}, {'Id': '7201176'}, {'Id': '7142778'}, {'Id': '6965168'}], 'DbTo': 'pmc', 'LinkName': 'pubmed_pmc_refs'}], 'DbFrom': 'pubmed', 'IdList': ['30049270']}]\n"
     ]
    }
   ],
   "source": [
    "#enter your email here; the one you used to create an api key in step 0\n",
    "Entrez.email = 'j.k.diaz.barba@st.hanze.nl' \n",
    "\n",
    "file = Entrez.elink(dbfrom=\"pubmed\",\n",
    "                   db=\"pmc\",\n",
    "                   LinkName=\"pubmed_pmc_refs\",\n",
    "                   id=\"30049270\",\n",
    "                   api_key='113a43b73ad4ea2ee9a48e8c102cf26e0009')\n",
    "results = Entrez.read(file)\n",
    "print (results)"
   ]
  },
  {
   "cell_type": "code",
   "execution_count": 54,
   "metadata": {},
   "outputs": [
    {
     "name": "stdout",
     "output_type": "stream",
     "text": [
      "['10862343', '10824403', '10810535', '10712917', '10668443', '10617710', '10604399', '10590010', '10546998', '10486119', '10449449', '10413913', '10387313', '10354302', '10296546', '10281569', '10240642', '10224495', '10195063', '10189984', '10029973', '10023427', '10013231', '9983048', '9970664', '9892353', '9884887', '9843110', '9821373', '9788541', '9640424', '9553271', '9550025', '9544891', '9522633', '9518073', '9517012', '9511241', '9510112', '9505332', '9274363', '9274335', '9259961', '9255267', '9241475', '9233012', '9216484', '9047029', '9007843', '8944180', '8900724', '8900470', '8886176', '8860903', '8832600', '8822421', '8767730', '8764740', '8700835', '8671734', '8665940', '8663079', '8636824', '8600343', '8355211', '8351482', '8287384', '8285468', '8274250', '8159085', '7982513', '7820374', '7785626', '7661370', '7661268', '7559120', '7557385', '7525587', '7435551', '7418773', '7259862', '7216302', '7201176', '7142778', '6965168']\n"
     ]
    }
   ],
   "source": [
    "#  get all the IDs of all the articles that are referenced in this one\n",
    "references = [f'{link[\"Id\"]}' for link in results[0][\"LinkSetDb\"][0][\"Link\"]]\n",
    "print (references)"
   ]
  },
  {
   "cell_type": "code",
   "execution_count": 61,
   "metadata": {},
   "outputs": [],
   "source": [
    "# obtain the article with authors and abstract\n",
    "handle = Entrez.efetch(db=\"pubmed\",\n",
    "                id='30049270',\n",
    "                retmode=\"xml\",\n",
    "                api_key='113a43b73ad4ea2ee9a48e8c102cf26e0009')\n",
    "#print(handle.read())"
   ]
  },
  {
   "cell_type": "markdown",
   "metadata": {},
   "source": [
    "### Step 2: Download the referenced articles and extra challenge comparing the execution time\n",
    "\n",
    "Obtain the ten first references of an article"
   ]
  },
  {
   "cell_type": "code",
   "execution_count": 56,
   "metadata": {},
   "outputs": [],
   "source": [
    "def get_article_references(pubmed_id='30049270'):\n",
    "    '''Obtain the ten first references of an article'''\n",
    "    file = Entrez.elink(dbfrom=\"pubmed\",\n",
    "                    db=\"pmc\",\n",
    "                    LinkName=\"pubmed_pmc_refs\",\n",
    "                    id=pubmed_id,\n",
    "                    api_key='113a43b73ad4ea2ee9a48e8c102cf26e0009')\n",
    "    # Storing the results obtained from biopython package\n",
    "    results = Entrez.read(file)\n",
    "\n",
    "    #  get all the IDs of all the articles that are referenced in this one\n",
    "    references = [f'{link[\"Id\"]}' for link in results[0][\"LinkSetDb\"][0][\"Link\"]]\n",
    "    # return only the first 10 references\n",
    "    return references[0:10]"
   ]
  },
  {
   "cell_type": "code",
   "execution_count": 46,
   "metadata": {},
   "outputs": [],
   "source": [
    "def download_article(pubmed_id):\n",
    "    '''Function to download an article based on the pubmed_id'''\n",
    "    filename = f'article_{pubmed_id}.xml'\n",
    "    print(f'File name: {filename}')\n",
    "    \n",
    "    # Obtain the article with authors and abstract\n",
    "    net_handle = Entrez.efetch(db=\"pubmed\",\n",
    "                    id=pubmed_id,\n",
    "                    retmode=\"xml\",\n",
    "                    api_key='113a43b73ad4ea2ee9a48e8c102cf26e0009')\n",
    "    article_data = net_handle.read()\n",
    "\n",
    "    # write the article, is in binary mode so 'b' option is needed\n",
    "    with open(filename,'wb')as file:\n",
    "        file.write(article_data)\n",
    "\n",
    "    print('------ Article downloaded ------')\n"
   ]
  },
  {
   "cell_type": "code",
   "execution_count": 57,
   "metadata": {},
   "outputs": [],
   "source": [
    "def download_article_forloop(pubmed_references_list):\n",
    "    '''Function to download an article based on the pubmed_id NOT using \n",
    "    parallellisation, but a list comprehension'''\n",
    "    start_time = time.time()\n",
    "    [download_article(reference) for reference in pubmed_references_list]\n",
    "    end_time = time.time() - start_time\n",
    "    return end_time"
   ]
  },
  {
   "cell_type": "code",
   "execution_count": 58,
   "metadata": {},
   "outputs": [],
   "source": [
    "def download_article_mp(pubmed_references_list):\n",
    "    '''Function to download an article based on the pubmed_id using \n",
    "    parallellisation (multiprocessing)'''\n",
    "    start_time = time.time()\n",
    "    with mp.Pool()as p:\n",
    "        res = p.map(download_article, pubmed_references_list)\n",
    "    end_time = time.time() - start_time\n",
    "    return end_time\n"
   ]
  },
  {
   "cell_type": "code",
   "execution_count": 59,
   "metadata": {},
   "outputs": [
    {
     "data": {
      "text/plain": [
       "['10862343',\n",
       " '10824403',\n",
       " '10810535',\n",
       " '10712917',\n",
       " '10668443',\n",
       " '10617710',\n",
       " '10604399',\n",
       " '10590010',\n",
       " '10546998',\n",
       " '10486119']"
      ]
     },
     "execution_count": 59,
     "metadata": {},
     "output_type": "execute_result"
    }
   ],
   "source": [
    "# Getting the ids of the articles referenced\n",
    "references_list = get_article_references('30049270')\n",
    "references_list"
   ]
  },
  {
   "cell_type": "code",
   "execution_count": 60,
   "metadata": {},
   "outputs": [
    {
     "name": "stdout",
     "output_type": "stream",
     "text": [
      "File name: article_10862343.xml\n",
      "------ Article downloaded ------\n",
      "File name: article_10824403.xml\n",
      "------ Article downloaded ------\n",
      "File name: article_10810535.xml\n",
      "------ Article downloaded ------\n",
      "File name: article_10712917.xml\n",
      "------ Article downloaded ------\n",
      "File name: article_10668443.xml\n",
      "------ Article downloaded ------\n",
      "File name: article_10617710.xml\n",
      "------ Article downloaded ------\n",
      "File name: article_10604399.xml\n",
      "------ Article downloaded ------\n",
      "File name: article_10590010.xml\n",
      "------ Article downloaded ------\n",
      "File name: article_10546998.xml\n",
      "------ Article downloaded ------\n",
      "File name: article_10486119.xml\n",
      "------ Article downloaded ------\n",
      "Time Foor loop 6.385 seconds\n",
      "File name: article_10862343.xmlFile name: article_10712917.xml\n",
      "File name: article_10604399.xmlFile name: article_10546998.xmlFile name: article_10486119.xmlFile name: article_10810535.xmlFile name: article_10668443.xmlFile name: article_10617710.xmlFile name: article_10590010.xmlFile name: article_10824403.xml\n",
      "\n",
      "\n",
      "\n",
      "\n",
      "\n",
      "\n",
      "\n",
      "\n",
      "------ Article downloaded ------\n",
      "------ Article downloaded ------\n",
      "------ Article downloaded ------------ Article downloaded ------\n",
      "\n",
      "------ Article downloaded ------------ Article downloaded ------\n",
      "\n",
      "------ Article downloaded ------\n",
      "------ Article downloaded ------\n",
      "------ Article downloaded ------\n",
      "------ Article downloaded ------\n",
      "Time Multiprocessing 1.882 seconds\n"
     ]
    }
   ],
   "source": [
    "# Downloadding the files \n",
    "\n",
    "print(f'Time Foor loop {download_article_forloop(references_list):.3f} seconds')\n",
    "print(f'Time Multiprocessing {download_article_mp(references_list):.3f} seconds')\n",
    "\n"
   ]
  }
 ],
 "metadata": {
  "kernelspec": {
   "display_name": "Python 3",
   "language": "python",
   "name": "python3"
  },
  "language_info": {
   "codemirror_mode": {
    "name": "ipython",
    "version": 3
   },
   "file_extension": ".py",
   "mimetype": "text/x-python",
   "name": "python",
   "nbconvert_exporter": "python",
   "pygments_lexer": "ipython3",
   "version": "3.10.8"
  },
  "orig_nbformat": 4
 },
 "nbformat": 4,
 "nbformat_minor": 2
}
