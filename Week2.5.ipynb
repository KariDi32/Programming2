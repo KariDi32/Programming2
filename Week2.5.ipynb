{
 "cells": [
  {
   "cell_type": "markdown",
   "metadata": {},
   "source": [
    "# Week 2.5: Real world Dask\n",
    "Author: Juana Karina Diaz Barba\n",
    "  "
   ]
  },
  {
   "cell_type": "code",
   "execution_count": 1,
   "metadata": {},
   "outputs": [],
   "source": [
    "import dask.dataframe as dd\n",
    "from dask.distributed import Client\n",
    "import pandas as pd\n",
    "import yaml\n",
    "\n",
    "# client = Client()\n",
    "# client"
   ]
  },
  {
   "cell_type": "code",
   "execution_count": 2,
   "metadata": {},
   "outputs": [],
   "source": [
    "def get_config():\n",
    "    '''Setting the config file'''\n",
    "    with open('config_prog2.yaml', 'r') as stream:\n",
    "        config = yaml.safe_load(stream)\n",
    "        return config\n",
    "\n",
    "config = get_config()\n",
    "bacilli_path = (config['bacilli'])"
   ]
  },
  {
   "cell_type": "markdown",
   "metadata": {},
   "source": [
    "Creating a pandas dataframe  with a small subset of the data, to see how the data looks like "
   ]
  },
  {
   "cell_type": "code",
   "execution_count": 3,
   "metadata": {},
   "outputs": [
    {
     "name": "stdout",
     "output_type": "stream",
     "text": [
      "                   protein_id                       protein_md5  \\\n",
      "0  gi|29898682|gb|AAP11954.1|  92d1264e347e149248231cb9b649388c   \n",
      "1  gi|29898682|gb|AAP11954.1|  92d1264e347e149248231cb9b649388c   \n",
      "2  gi|29898682|gb|AAP11954.1|  92d1264e347e149248231cb9b649388c   \n",
      "\n",
      "   protein_length         analysis signature_id  \\\n",
      "0             547          TIGRFAM    TIGR03882   \n",
      "1             547          TIGRFAM    TIGR03604   \n",
      "2             547  ProSiteProfiles      PS51664   \n",
      "\n",
      "                               signature_description  Start location  \\\n",
      "0  cyclo_dehyd_2: bacteriocin biosynthesis cyclod...               2   \n",
      "1  TOMM_cyclo_SagD: thiazole/oxazole-forming pept...             161   \n",
      "2                               YcaO domain profile.             159   \n",
      "\n",
      "   Stop location      score status        date interpro_id  \\\n",
      "0            131    1.6E-21      T  25-04-2022   IPR022291   \n",
      "1            547        0.0      T  25-04-2022   IPR027624   \n",
      "2            547  75.396477      T  25-04-2022   IPR003776   \n",
      "\n",
      "                                       interpro_desc go_terms pathway_terms  \n",
      "0  Bacteriocin biosynthesis, cyclodehydratase domain        -             -  \n",
      "1  Thiazole/oxazole-forming peptide maturase, Sag...        -             -  \n",
      "2                                   YcaO-like domain        -             -  \n",
      "[dtype('O'), dtype('O'), dtype('int64'), dtype('O'), dtype('O'), dtype('O'), dtype('int64'), dtype('int64'), dtype('O'), dtype('O'), dtype('O'), dtype('O'), dtype('O'), dtype('O'), dtype('O')]\n"
     ]
    }
   ],
   "source": [
    "df = pd.read_csv(bacilli_path, delimiter='\\t', header= None, nrows= 10, \n",
    "                    names = [\"protein_id\", \"protein_md5\", \"protein_length\", \n",
    "                           \"analysis\", \"signature_id\", \"signature_description\", \n",
    "                           \"Start location\", \"Stop location\", \"score\", \"status\", \n",
    "                           \"date\", \"interpro_id\", \"interpro_desc\", \"go_terms\", \n",
    "                           \"pathway_terms\"], dtype={'score': 'object'})\n",
    "print(df.head(3))\n",
    "datatypes = df.dtypes.to_list()\n",
    "print(datatypes)"
   ]
  },
  {
   "cell_type": "markdown",
   "metadata": {},
   "source": [
    "The data types are correct. But to avoid problems we are going to set dtype={'score': 'object'} to avoid future errors.   \n",
    "  \n",
    "The correct column names were obtained from the data description: \n",
    "https://interproscan-docs.readthedocs.io/en/latest/OutputFormats.html#example-output "
   ]
  },
  {
   "cell_type": "code",
   "execution_count": 4,
   "metadata": {},
   "outputs": [
    {
     "data": {
      "text/html": [
       "<div><strong>Dask DataFrame Structure:</strong></div>\n",
       "<div>\n",
       "<style scoped>\n",
       "    .dataframe tbody tr th:only-of-type {\n",
       "        vertical-align: middle;\n",
       "    }\n",
       "\n",
       "    .dataframe tbody tr th {\n",
       "        vertical-align: top;\n",
       "    }\n",
       "\n",
       "    .dataframe thead th {\n",
       "        text-align: right;\n",
       "    }\n",
       "</style>\n",
       "<table border=\"1\" class=\"dataframe\">\n",
       "  <thead>\n",
       "    <tr style=\"text-align: right;\">\n",
       "      <th></th>\n",
       "      <th>protein_id</th>\n",
       "      <th>protein_md5</th>\n",
       "      <th>protein_length</th>\n",
       "      <th>analysis</th>\n",
       "      <th>signature_id</th>\n",
       "      <th>signature_description</th>\n",
       "      <th>Start location</th>\n",
       "      <th>Stop location</th>\n",
       "      <th>score</th>\n",
       "      <th>status</th>\n",
       "      <th>date</th>\n",
       "      <th>interpro_id</th>\n",
       "      <th>interpro_desc</th>\n",
       "      <th>go_terms</th>\n",
       "      <th>pathway_terms</th>\n",
       "    </tr>\n",
       "    <tr>\n",
       "      <th>npartitions=174</th>\n",
       "      <th></th>\n",
       "      <th></th>\n",
       "      <th></th>\n",
       "      <th></th>\n",
       "      <th></th>\n",
       "      <th></th>\n",
       "      <th></th>\n",
       "      <th></th>\n",
       "      <th></th>\n",
       "      <th></th>\n",
       "      <th></th>\n",
       "      <th></th>\n",
       "      <th></th>\n",
       "      <th></th>\n",
       "      <th></th>\n",
       "    </tr>\n",
       "  </thead>\n",
       "  <tbody>\n",
       "    <tr>\n",
       "      <th></th>\n",
       "      <td>object</td>\n",
       "      <td>object</td>\n",
       "      <td>int64</td>\n",
       "      <td>object</td>\n",
       "      <td>object</td>\n",
       "      <td>object</td>\n",
       "      <td>int64</td>\n",
       "      <td>int64</td>\n",
       "      <td>object</td>\n",
       "      <td>object</td>\n",
       "      <td>object</td>\n",
       "      <td>object</td>\n",
       "      <td>object</td>\n",
       "      <td>object</td>\n",
       "      <td>object</td>\n",
       "    </tr>\n",
       "    <tr>\n",
       "      <th></th>\n",
       "      <td>...</td>\n",
       "      <td>...</td>\n",
       "      <td>...</td>\n",
       "      <td>...</td>\n",
       "      <td>...</td>\n",
       "      <td>...</td>\n",
       "      <td>...</td>\n",
       "      <td>...</td>\n",
       "      <td>...</td>\n",
       "      <td>...</td>\n",
       "      <td>...</td>\n",
       "      <td>...</td>\n",
       "      <td>...</td>\n",
       "      <td>...</td>\n",
       "      <td>...</td>\n",
       "    </tr>\n",
       "    <tr>\n",
       "      <th>...</th>\n",
       "      <td>...</td>\n",
       "      <td>...</td>\n",
       "      <td>...</td>\n",
       "      <td>...</td>\n",
       "      <td>...</td>\n",
       "      <td>...</td>\n",
       "      <td>...</td>\n",
       "      <td>...</td>\n",
       "      <td>...</td>\n",
       "      <td>...</td>\n",
       "      <td>...</td>\n",
       "      <td>...</td>\n",
       "      <td>...</td>\n",
       "      <td>...</td>\n",
       "      <td>...</td>\n",
       "    </tr>\n",
       "    <tr>\n",
       "      <th></th>\n",
       "      <td>...</td>\n",
       "      <td>...</td>\n",
       "      <td>...</td>\n",
       "      <td>...</td>\n",
       "      <td>...</td>\n",
       "      <td>...</td>\n",
       "      <td>...</td>\n",
       "      <td>...</td>\n",
       "      <td>...</td>\n",
       "      <td>...</td>\n",
       "      <td>...</td>\n",
       "      <td>...</td>\n",
       "      <td>...</td>\n",
       "      <td>...</td>\n",
       "      <td>...</td>\n",
       "    </tr>\n",
       "    <tr>\n",
       "      <th></th>\n",
       "      <td>...</td>\n",
       "      <td>...</td>\n",
       "      <td>...</td>\n",
       "      <td>...</td>\n",
       "      <td>...</td>\n",
       "      <td>...</td>\n",
       "      <td>...</td>\n",
       "      <td>...</td>\n",
       "      <td>...</td>\n",
       "      <td>...</td>\n",
       "      <td>...</td>\n",
       "      <td>...</td>\n",
       "      <td>...</td>\n",
       "      <td>...</td>\n",
       "      <td>...</td>\n",
       "    </tr>\n",
       "  </tbody>\n",
       "</table>\n",
       "</div>\n",
       "<div>Dask Name: read-csv, 174 tasks</div>"
      ],
      "text/plain": [
       "Dask DataFrame Structure:\n",
       "                protein_id protein_md5 protein_length analysis signature_id signature_description Start location Stop location   score  status    date interpro_id interpro_desc go_terms pathway_terms\n",
       "npartitions=174                                                                                                                                                                                        \n",
       "                    object      object          int64   object       object                object          int64         int64  object  object  object      object        object   object        object\n",
       "                       ...         ...            ...      ...          ...                   ...            ...           ...     ...     ...     ...         ...           ...      ...           ...\n",
       "...                    ...         ...            ...      ...          ...                   ...            ...           ...     ...     ...     ...         ...           ...      ...           ...\n",
       "                       ...         ...            ...      ...          ...                   ...            ...           ...     ...     ...     ...         ...           ...      ...           ...\n",
       "                       ...         ...            ...      ...          ...                   ...            ...           ...     ...     ...     ...         ...           ...      ...           ...\n",
       "Dask Name: read-csv, 174 tasks"
      ]
     },
     "execution_count": 4,
     "metadata": {},
     "output_type": "execute_result"
    }
   ],
   "source": [
    "# Creating a dask dataframe with different partitions\n",
    "\n",
    "ddf = dd.read_csv(bacilli_path, delimiter='\\t',  header=None, \n",
    "                  names = [\"protein_id\", \"protein_md5\", \"protein_length\", \n",
    "                           \"analysis\", \"signature_id\", \"signature_description\", \n",
    "                           \"Start location\", \"Stop location\", \"score\", \"status\", \n",
    "                           \"date\", \"interpro_id\", \"interpro_desc\", \"go_terms\", \n",
    "                           \"pathway_terms\"], dtype={'score': 'object'})\n",
    "ddf"
   ]
  },
  {
   "cell_type": "code",
   "execution_count": 5,
   "metadata": {},
   "outputs": [
    {
     "data": {
      "text/html": [
       "<div>\n",
       "    <div>\n",
       "        <div style=\"width: 52px; height: 52px; position: absolute;\">\n",
       "            <svg width=\"76\" height=\"71\" viewBox=\"0 0 76 71\" fill=\"none\" xmlns=\"http://www.w3.org/2000/svg\">\n",
       "                <circle cx=\"61.5\" cy=\"36.5\" r=\"13.5\" style=\"stroke: var(--jp-ui-font-color2, #1D1D1D); fill: var(--jp-layout-color1, #F2F2F2);\" stroke-width=\"2\"/>\n",
       "                <circle cx=\"14.5\" cy=\"14.5\" r=\"13.5\" style=\"stroke: var(--jp-ui-font-color2, #1D1D1D); fill: var(--jp-layout-color1, #F2F2F2);\" stroke-width=\"2\"/>\n",
       "                <circle cx=\"14.5\" cy=\"56.5\" r=\"13.5\" style=\"stroke: var(--jp-ui-font-color2, #1D1D1D); fill: var(--jp-layout-color1, #F2F2F2);\" stroke-width=\"2\"/>\n",
       "                <path d=\"M28 16L30.5 16C33.2614 16 35.5 18.2386 35.5 21L35.5 32.0001C35.5 34.7615 37.7386 37.0001 40.5 37.0001L43 37.0001\" style=\"stroke: var(--jp-ui-font-color2, #1D1D1D);\" stroke-width=\"1.5\"/>\n",
       "                <path d=\"M40.5 37L40.5 37.75L40.5 37.75L40.5 37ZM35.5 42L36.25 42L35.5 42ZM35.5 52L34.75 52L35.5 52ZM30.5 57L30.5 57.75L30.5 57ZM41.5001 36.25L40.5 36.25L40.5 37.75L41.5001 37.75L41.5001 36.25ZM34.75 42L34.75 52L36.25 52L36.25 42L34.75 42ZM30.5 56.25L28.0001 56.25L28.0001 57.75L30.5 57.75L30.5 56.25ZM34.75 52C34.75 54.3472 32.8472 56.25 30.5 56.25L30.5 57.75C33.6756 57.75 36.25 55.1756 36.25 52L34.75 52ZM40.5 36.25C37.3244 36.25 34.75 38.8243 34.75 42L36.25 42C36.25 39.6528 38.1528 37.75 40.5 37.75L40.5 36.25Z\" style=\"fill: var(--jp-ui-font-color2, #1D1D1D);\"/>\n",
       "                <circle cx=\"28\" cy=\"16\" r=\"2.25\" fill=\"#E5E5E5\" style=\"stroke: var(--jp-ui-font-color2, #1D1D1D);\" stroke-width=\"1.5\"/>\n",
       "                <circle cx=\"28\" cy=\"57\" r=\"2.25\" fill=\"#E5E5E5\" style=\"stroke: var(--jp-ui-font-color2, #1D1D1D);\" stroke-width=\"1.5\"/>\n",
       "                <path d=\"M45.25 36.567C45.5833 36.7594 45.5833 37.2406 45.25 37.433L42.25 39.1651C41.9167 39.3575 41.5 39.117 41.5 38.7321V35.2679C41.5 34.883 41.9167 34.6425 42.25 34.8349L45.25 36.567Z\" style=\"fill: var(--jp-ui-font-color2, #1D1D1D);\"/>\n",
       "            </svg>\n",
       "        </div>\n",
       "        <div style=\"margin-left: 64px;\">\n",
       "            <h3 style=\"margin-bottom: 0px;\">HighLevelGraph</h3>\n",
       "            <p style=\"color: var(--jp-ui-font-color2, #5D5851); margin-bottom:0px;\">\n",
       "                HighLevelGraph with 1 layers and 174 keys from all layers.\n",
       "            </p>\n",
       "            \n",
       "            <div style=\"\">\n",
       "    <svg width=\"24\" height=\"24\" viewBox=\"0 0 32 32\" fill=\"none\" xmlns=\"http://www.w3.org/2000/svg\" style=\"position: absolute;\">\n",
       "        \n",
       "        <circle cx=\"16\" cy=\"16\" r=\"14\" style=\"stroke: var(--jp-ui-font-color2, #1D1D1D); fill: var(--jp-layout-color1, #F2F2F2);\" stroke-width=\"2\" />\n",
       "        \n",
       "    </svg>\n",
       "\n",
       "    <details style=\"margin-left: 32px;\">\n",
       "        <summary style=\"margin-bottom: 10px; margin-top: 10px;\">\n",
       "            <h4 style=\"display: inline;\">Layer1: read-csv</h4>\n",
       "        </summary>\n",
       "        <p style=\"color: var(--jp-ui-font-color2, #5D5851); margin: -0.25em 0px 0px 0px;\">\n",
       "            read-csv-eeb631b3b03e0b473aa5c63b731af4e8\n",
       "        </p>\n",
       "\n",
       "        <table>\n",
       "        <tr>\n",
       "            <td>\n",
       "                <table>\n",
       "                \n",
       "                    <tr>\n",
       "                        <th style=\"text-align: left; width: 150px;\">layer_type</th>\n",
       "                        <td style=\"text-align: left;\">DataFrameIOLayer</td>\n",
       "                    </tr>\n",
       "                \n",
       "                    <tr>\n",
       "                        <th style=\"text-align: left; width: 150px;\">is_materialized</th>\n",
       "                        <td style=\"text-align: left;\">False</td>\n",
       "                    </tr>\n",
       "                \n",
       "                    <tr>\n",
       "                        <th style=\"text-align: left; width: 150px;\">number of outputs</th>\n",
       "                        <td style=\"text-align: left;\">174</td>\n",
       "                    </tr>\n",
       "                \n",
       "                    <tr>\n",
       "                        <th style=\"text-align: left; width: 150px;\">npartitions</th>\n",
       "                        <td style=\"text-align: left;\">174</td>\n",
       "                    </tr>\n",
       "                \n",
       "                    <tr>\n",
       "                        <th style=\"text-align: left; width: 150px;\">columns</th>\n",
       "                        <td style=\"text-align: left;\">[&#x27;protein_id&#x27;, &#x27;protein_md5&#x27;, &#x27;protein_length&#x27;, &#x27;analysis&#x27;, &#x27;signature_id&#x27;, &#x27;signature_description&#x27;, &#x27;Start location&#x27;, &#x27;Stop location&#x27;, &#x27;score&#x27;, &#x27;status&#x27;, &#x27;date&#x27;, &#x27;interpro_id&#x27;, &#x27;interpro_desc&#x27;, &#x27;go_terms&#x27;, &#x27;pathway_terms&#x27;]</td>\n",
       "                    </tr>\n",
       "                \n",
       "                    <tr>\n",
       "                        <th style=\"text-align: left; width: 150px;\">type</th>\n",
       "                        <td style=\"text-align: left;\">dask.dataframe.core.DataFrame</td>\n",
       "                    </tr>\n",
       "                \n",
       "                    <tr>\n",
       "                        <th style=\"text-align: left; width: 150px;\">dataframe_type</th>\n",
       "                        <td style=\"text-align: left;\">pandas.core.frame.DataFrame</td>\n",
       "                    </tr>\n",
       "                \n",
       "                    <tr>\n",
       "                        <th style=\"text-align: left; width: 150px;\">series_dtypes</th>\n",
       "                        <td style=\"text-align: left;\">{&#x27;protein_id&#x27;: dtype(&#x27;O&#x27;), &#x27;protein_md5&#x27;: dtype(&#x27;O&#x27;), &#x27;protein_length&#x27;: dtype(&#x27;int64&#x27;), &#x27;analysis&#x27;: dtype(&#x27;O&#x27;), &#x27;signature_id&#x27;: dtype(&#x27;O&#x27;), &#x27;signature_description&#x27;: dtype(&#x27;O&#x27;), &#x27;Start location&#x27;: dtype(&#x27;int64&#x27;), &#x27;Stop location&#x27;: dtype(&#x27;int64&#x27;), &#x27;score&#x27;: dtype(&#x27;O&#x27;), &#x27;status&#x27;: dtype(&#x27;O&#x27;), &#x27;date&#x27;: dtype(&#x27;O&#x27;), &#x27;interpro_id&#x27;: dtype(&#x27;O&#x27;), &#x27;interpro_desc&#x27;: dtype(&#x27;O&#x27;), &#x27;go_terms&#x27;: dtype(&#x27;O&#x27;), &#x27;pathway_terms&#x27;: dtype(&#x27;O&#x27;)}</td>\n",
       "                    </tr>\n",
       "                \n",
       "                \n",
       "                </table>\n",
       "            </td>\n",
       "            <td>\n",
       "                \n",
       "            </td>\n",
       "        </tr>\n",
       "        </table>\n",
       "\n",
       "    </details>\n",
       "</div>\n",
       "            \n",
       "        </div>\n",
       "    </div>\n",
       "</div>"
      ],
      "text/plain": [
       "HighLevelGraph with 1 layers.\n",
       "<dask.highlevelgraph.HighLevelGraph object at 0x7fbdefd8d750>\n",
       " 0. read-csv-eeb631b3b03e0b473aa5c63b731af4e8"
      ]
     },
     "execution_count": 5,
     "metadata": {},
     "output_type": "execute_result"
    }
   ],
   "source": [
    "ddf.dask"
   ]
  },
  {
   "cell_type": "code",
   "execution_count": 6,
   "metadata": {},
   "outputs": [
    {
     "data": {
      "image/png": "[encoded data removed]",
      "text/plain": [
       "<IPython.core.display.Image object>"
      ]
     },
     "execution_count": 6,
     "metadata": {},
     "output_type": "execute_result"
    }
   ],
   "source": [
    "ddf.visualize()"
   ]
  },
  {
   "cell_type": "markdown",
   "metadata": {},
   "source": [
    "### 1. How many distinct protein annotations are found in the dataset?  \n",
    "I.e. how many distinc InterPRO numbers are there?"
   ]
  },
  {
   "cell_type": "code",
   "execution_count": 7,
   "metadata": {},
   "outputs": [
    {
     "name": "stdout",
     "output_type": "stream",
     "text": [
      "Number of distinct InterPro numbers: 9704\n"
     ]
    }
   ],
   "source": [
    "# I use '.compute(num_workers=16)' to distribute the computation across these \n",
    "# workers to parallelize the task and speed up the processing of your dataset.\n",
    "interpro_count = ddf['interpro_id'].nunique().compute(num_workers=16)\n",
    "print(\"Number of distinct InterPro numbers:\", interpro_count)\n"
   ]
  },
  {
   "cell_type": "markdown",
   "metadata": {},
   "source": [
    "### 2. How many annotations does a protein have on average?"
   ]
  },
  {
   "cell_type": "code",
   "execution_count": null,
   "metadata": {},
   "outputs": [
    {
     "name": "stdout",
     "output_type": "stream",
     "text": [
      "Average number of annotations per protein: 11.490524386574391\n"
     ]
    }
   ],
   "source": [
    "# Group by 'protein_id' and calculate how many 'interpro_id' are in each 'protein_id group'\n",
    "interpro_per_protein = ddf.groupby('protein_id')['interpro_id'].count()\n",
    "\n",
    "# Mean 'interpro_id' per protein\n",
    "mean_annotation_per_protein = interpro_per_protein.mean().compute(num_workers=16)\n",
    "\n",
    "print(\"Average number of annotations per protein:\", mean_annotation_per_protein)"
   ]
  },
  {
   "cell_type": "markdown",
   "metadata": {},
   "source": [
    "### 3. What is the most common GO Term found?"
   ]
  },
  {
   "cell_type": "code",
   "execution_count": null,
   "metadata": {},
   "outputs": [
    {
     "name": "stdout",
     "output_type": "stream",
     "text": [
      "Most common Go term: GO:0003700|GO:0006355 with 33500 counts\n"
     ]
    }
   ],
   "source": [
    "# Filter out rows where go_terms is equal to '-'\n",
    "ddf_filtered = ddf[ddf['go_terms'] != '-']\n",
    "\n",
    "# Obtain the value counts per go term and select the one with the max number\n",
    "go_term = ddf_filtered['go_terms'].value_counts().idxmax().compute(num_workers=16)\n",
    "# Get the max count of the go_terms\n",
    "go_count = ddf_filtered['go_terms'].value_counts().max().compute(num_workers=16)\n",
    "print(f'Most common Go term: {go_term} with {go_count} counts')"
   ]
  },
  {
   "cell_type": "markdown",
   "metadata": {},
   "source": [
    "### 4. What is the average size of an InterPRO feature found in the dataset?"
   ]
  },
  {
   "cell_type": "code",
   "execution_count": 25,
   "metadata": {},
   "outputs": [
    {
     "name": "stdout",
     "output_type": "stream",
     "text": [
      "Mean feature size: 131.73178916966685\n"
     ]
    }
   ],
   "source": [
    "# Obtain the feature size by resting the stop and start location\n",
    "feature_size = ddf['Stop location']- ddf['Start location']\n",
    "# Obtain mean of size\n",
    "feature_mean = feature_size.mean().compute(num_workers=16)\n",
    "print(f'Mean feature size: {feature_mean}')\n"
   ]
  },
  {
   "cell_type": "markdown",
   "metadata": {},
   "source": [
    "### 5. What is the top 10 most common InterPRO features?"
   ]
  },
  {
   "cell_type": "code",
   "execution_count": 24,
   "metadata": {},
   "outputs": [
    {
     "name": "stdout",
     "output_type": "stream",
     "text": [
      "Top ten most common interpro features\n",
      "interpro_id\n",
      "IPR027417    46834\n",
      "IPR002347    18077\n",
      "IPR003439    16944\n",
      "IPR036388    16291\n",
      "IPR036259    12602\n",
      "IPR003593    11521\n",
      "IPR036390    11304\n",
      "IPR036291    10716\n",
      "IPR000515    10613\n",
      "IPR001789    10471\n",
      "Name: interpro_id, dtype: int64\n"
     ]
    }
   ],
   "source": [
    "# Filter out rows where interpro_id is equal to '-'\n",
    "ddf_filtered = ddf[ddf['interpro_id'] != '-']\n",
    "# Group by 'interpro_id' and count how many values per id are\n",
    "interpro_id_counts = ddf_filtered.groupby('interpro_id')['interpro_id'].count().compute(num_workers=16)\n",
    "# Get only the 10 largest entries\n",
    "top_ten = interpro_id_counts.nlargest(10)\n",
    "print('Top ten most common interpro features')\n",
    "print(top_ten)"
   ]
  },
  {
   "cell_type": "markdown",
   "metadata": {},
   "source": [
    "### 6.  If you select InterPRO features that are almost the same size (within 90-100%) as the protein itself, what is the top10 then?"
   ]
  },
  {
   "cell_type": "code",
   "execution_count": 10,
   "metadata": {},
   "outputs": [
    {
     "name": "stderr",
     "output_type": "stream",
     "text": [
      "ignoring exception in ensure_cleanup_on_exception\n",
      "Traceback (most recent call last):\n",
      "  File \"/commons/conda/dsls/lib/python3.10/site-packages/dask/dataframe/shuffle.py\", line 953, in ensure_cleanup_on_exception\n",
      "    yield\n",
      "  File \"/commons/conda/dsls/lib/python3.10/site-packages/dask/dataframe/shuffle.py\", line 968, in shuffle_group_3\n",
      "    p.append(d, fsync=True)\n",
      "  File \"/commons/conda/dsls/lib/python3.10/site-packages/partd/encode.py\", line 25, in append\n",
      "    self.partd.append(data, **kwargs)\n",
      "  File \"/commons/conda/dsls/lib/python3.10/site-packages/partd/buffer.py\", line 45, in append\n",
      "    self.flush(keys)\n",
      "  File \"/commons/conda/dsls/lib/python3.10/site-packages/partd/buffer.py\", line 99, in flush\n",
      "    self.slow.append(dict(zip(keys, self.fast.get(keys))))\n",
      "  File \"/commons/conda/dsls/lib/python3.10/site-packages/partd/file.py\", line 44, in append\n",
      "    f.write(v)\n",
      "OSError: [Errno 28] No space left on device\n",
      "\n",
      "During handling of the above exception, another exception occurred:\n",
      "\n",
      "Traceback (most recent call last):\n",
      "  File \"/commons/conda/dsls/lib/python3.10/site-packages/dask/dataframe/shuffle.py\", line 958, in ensure_cleanup_on_exception\n",
      "    p.drop()\n",
      "  File \"/commons/conda/dsls/lib/python3.10/site-packages/partd/encode.py\", line 39, in drop\n",
      "    return self.partd.drop()\n",
      "  File \"/commons/conda/dsls/lib/python3.10/site-packages/partd/buffer.py\", line 78, in drop\n",
      "    self.slow.drop()\n",
      "  File \"/commons/conda/dsls/lib/python3.10/site-packages/partd/file.py\", line 95, in drop\n",
      "    shutil.rmtree(self.path)\n",
      "  File \"/commons/conda/dsls/lib/python3.10/shutil.py\", line 730, in rmtree\n",
      "    onerror(os.rmdir, path, sys.exc_info())\n",
      "  File \"/commons/conda/dsls/lib/python3.10/shutil.py\", line 728, in rmtree\n",
      "    os.rmdir(path)\n",
      "OSError: [Errno 39] Directory not empty: '/tmp/tmp3s_mighd.partd'\n"
     ]
    },
    {
     "ename": "OSError",
     "evalue": "[Errno 28] No space left on device",
     "output_type": "error",
     "traceback": [
      "\u001b[0;31m---------------------------------------------------------------------------\u001b[0m",
      "\u001b[0;31mOSError\u001b[0m                                   Traceback (most recent call last)",
      "Input \u001b[0;32mIn [10]\u001b[0m, in \u001b[0;36m<cell line: 5>\u001b[0;34m()\u001b[0m\n\u001b[1;32m      2\u001b[0m ddf_with_index \u001b[38;5;241m=\u001b[39m ddf\u001b[38;5;241m.\u001b[39mset_index(\u001b[38;5;124m'\u001b[39m\u001b[38;5;124mprotein_id\u001b[39m\u001b[38;5;124m'\u001b[39m)\n\u001b[1;32m      4\u001b[0m \u001b[38;5;66;03m# Get the maximum protein length per protein_id\u001b[39;00m\n\u001b[0;32m----> 5\u001b[0m protein_length \u001b[38;5;241m=\u001b[39m \u001b[43mddf_with_index\u001b[49m\u001b[38;5;241;43m.\u001b[39;49m\u001b[43mgroupby\u001b[49m\u001b[43m(\u001b[49m\u001b[38;5;124;43m'\u001b[39;49m\u001b[38;5;124;43mprotein_id\u001b[39;49m\u001b[38;5;124;43m'\u001b[39;49m\u001b[43m)\u001b[49m\u001b[43m[\u001b[49m\u001b[38;5;124;43m'\u001b[39;49m\u001b[38;5;124;43mprotein_length\u001b[39;49m\u001b[38;5;124;43m'\u001b[39;49m\u001b[43m]\u001b[49m\u001b[38;5;241;43m.\u001b[39;49m\u001b[43mmax\u001b[49m\u001b[43m(\u001b[49m\u001b[43m)\u001b[49m\u001b[38;5;241;43m.\u001b[39;49m\u001b[43mcompute\u001b[49m\u001b[43m(\u001b[49m\u001b[43m)\u001b[49m\n\u001b[1;32m      7\u001b[0m \u001b[38;5;66;03m# Select the entries wich protein lenght is within 90-100%\u001b[39;00m\n\u001b[1;32m      8\u001b[0m similar_size \u001b[38;5;241m=\u001b[39m ddf_with_index[(ddf_with_index[\u001b[38;5;124m'\u001b[39m\u001b[38;5;124mprotein_length\u001b[39m\u001b[38;5;124m'\u001b[39m] \u001b[38;5;241m>\u001b[39m\u001b[38;5;241m=\u001b[39m protein_length \u001b[38;5;241m*\u001b[39m \u001b[38;5;241m0.9\u001b[39m) \u001b[38;5;241m&\u001b[39m \n\u001b[1;32m      9\u001b[0m                                        (ddf_with_index[\u001b[38;5;124m'\u001b[39m\u001b[38;5;124mprotein_length\u001b[39m\u001b[38;5;124m'\u001b[39m] \u001b[38;5;241m<\u001b[39m\u001b[38;5;241m=\u001b[39m protein_length \u001b[38;5;241m*\u001b[39m \u001b[38;5;241m1.0\u001b[39m)]\n",
      "File \u001b[0;32m/commons/conda/dsls/lib/python3.10/site-packages/dask/base.py:315\u001b[0m, in \u001b[0;36mDaskMethodsMixin.compute\u001b[0;34m(self, **kwargs)\u001b[0m\n\u001b[1;32m    291\u001b[0m \u001b[38;5;28;01mdef\u001b[39;00m \u001b[38;5;21mcompute\u001b[39m(\u001b[38;5;28mself\u001b[39m, \u001b[38;5;241m*\u001b[39m\u001b[38;5;241m*\u001b[39mkwargs):\n\u001b[1;32m    292\u001b[0m     \u001b[38;5;124;03m\"\"\"Compute this dask collection\u001b[39;00m\n\u001b[1;32m    293\u001b[0m \n\u001b[1;32m    294\u001b[0m \u001b[38;5;124;03m    This turns a lazy Dask collection into its in-memory equivalent.\u001b[39;00m\n\u001b[0;32m   (...)\u001b[0m\n\u001b[1;32m    313\u001b[0m \u001b[38;5;124;03m    dask.base.compute\u001b[39;00m\n\u001b[1;32m    314\u001b[0m \u001b[38;5;124;03m    \"\"\"\u001b[39;00m\n\u001b[0;32m--> 315\u001b[0m     (result,) \u001b[38;5;241m=\u001b[39m \u001b[43mcompute\u001b[49m\u001b[43m(\u001b[49m\u001b[38;5;28;43mself\u001b[39;49m\u001b[43m,\u001b[49m\u001b[43m \u001b[49m\u001b[43mtraverse\u001b[49m\u001b[38;5;241;43m=\u001b[39;49m\u001b[38;5;28;43;01mFalse\u001b[39;49;00m\u001b[43m,\u001b[49m\u001b[43m \u001b[49m\u001b[38;5;241;43m*\u001b[39;49m\u001b[38;5;241;43m*\u001b[39;49m\u001b[43mkwargs\u001b[49m\u001b[43m)\u001b[49m\n\u001b[1;32m    316\u001b[0m     \u001b[38;5;28;01mreturn\u001b[39;00m result\n",
      "File \u001b[0;32m/commons/conda/dsls/lib/python3.10/site-packages/dask/base.py:603\u001b[0m, in \u001b[0;36mcompute\u001b[0;34m(traverse, optimize_graph, scheduler, get, *args, **kwargs)\u001b[0m\n\u001b[1;32m    600\u001b[0m     keys\u001b[38;5;241m.\u001b[39mappend(x\u001b[38;5;241m.\u001b[39m__dask_keys__())\n\u001b[1;32m    601\u001b[0m     postcomputes\u001b[38;5;241m.\u001b[39mappend(x\u001b[38;5;241m.\u001b[39m__dask_postcompute__())\n\u001b[0;32m--> 603\u001b[0m results \u001b[38;5;241m=\u001b[39m \u001b[43mschedule\u001b[49m\u001b[43m(\u001b[49m\u001b[43mdsk\u001b[49m\u001b[43m,\u001b[49m\u001b[43m \u001b[49m\u001b[43mkeys\u001b[49m\u001b[43m,\u001b[49m\u001b[43m \u001b[49m\u001b[38;5;241;43m*\u001b[39;49m\u001b[38;5;241;43m*\u001b[39;49m\u001b[43mkwargs\u001b[49m\u001b[43m)\u001b[49m\n\u001b[1;32m    604\u001b[0m \u001b[38;5;28;01mreturn\u001b[39;00m repack([f(r, \u001b[38;5;241m*\u001b[39ma) \u001b[38;5;28;01mfor\u001b[39;00m r, (f, a) \u001b[38;5;129;01min\u001b[39;00m \u001b[38;5;28mzip\u001b[39m(results, postcomputes)])\n",
      "File \u001b[0;32m/commons/conda/dsls/lib/python3.10/site-packages/dask/threaded.py:89\u001b[0m, in \u001b[0;36mget\u001b[0;34m(dsk, keys, cache, num_workers, pool, **kwargs)\u001b[0m\n\u001b[1;32m     86\u001b[0m     \u001b[38;5;28;01melif\u001b[39;00m \u001b[38;5;28misinstance\u001b[39m(pool, multiprocessing\u001b[38;5;241m.\u001b[39mpool\u001b[38;5;241m.\u001b[39mPool):\n\u001b[1;32m     87\u001b[0m         pool \u001b[38;5;241m=\u001b[39m MultiprocessingPoolExecutor(pool)\n\u001b[0;32m---> 89\u001b[0m results \u001b[38;5;241m=\u001b[39m \u001b[43mget_async\u001b[49m\u001b[43m(\u001b[49m\n\u001b[1;32m     90\u001b[0m \u001b[43m    \u001b[49m\u001b[43mpool\u001b[49m\u001b[38;5;241;43m.\u001b[39;49m\u001b[43msubmit\u001b[49m\u001b[43m,\u001b[49m\n\u001b[1;32m     91\u001b[0m \u001b[43m    \u001b[49m\u001b[43mpool\u001b[49m\u001b[38;5;241;43m.\u001b[39;49m\u001b[43m_max_workers\u001b[49m\u001b[43m,\u001b[49m\n\u001b[1;32m     92\u001b[0m \u001b[43m    \u001b[49m\u001b[43mdsk\u001b[49m\u001b[43m,\u001b[49m\n\u001b[1;32m     93\u001b[0m \u001b[43m    \u001b[49m\u001b[43mkeys\u001b[49m\u001b[43m,\u001b[49m\n\u001b[1;32m     94\u001b[0m \u001b[43m    \u001b[49m\u001b[43mcache\u001b[49m\u001b[38;5;241;43m=\u001b[39;49m\u001b[43mcache\u001b[49m\u001b[43m,\u001b[49m\n\u001b[1;32m     95\u001b[0m \u001b[43m    \u001b[49m\u001b[43mget_id\u001b[49m\u001b[38;5;241;43m=\u001b[39;49m\u001b[43m_thread_get_id\u001b[49m\u001b[43m,\u001b[49m\n\u001b[1;32m     96\u001b[0m \u001b[43m    \u001b[49m\u001b[43mpack_exception\u001b[49m\u001b[38;5;241;43m=\u001b[39;49m\u001b[43mpack_exception\u001b[49m\u001b[43m,\u001b[49m\n\u001b[1;32m     97\u001b[0m \u001b[43m    \u001b[49m\u001b[38;5;241;43m*\u001b[39;49m\u001b[38;5;241;43m*\u001b[39;49m\u001b[43mkwargs\u001b[49m\u001b[43m,\u001b[49m\n\u001b[1;32m     98\u001b[0m \u001b[43m\u001b[49m\u001b[43m)\u001b[49m\n\u001b[1;32m    100\u001b[0m \u001b[38;5;66;03m# Cleanup pools associated to dead threads\u001b[39;00m\n\u001b[1;32m    101\u001b[0m \u001b[38;5;28;01mwith\u001b[39;00m pools_lock:\n",
      "File \u001b[0;32m/commons/conda/dsls/lib/python3.10/site-packages/dask/local.py:511\u001b[0m, in \u001b[0;36mget_async\u001b[0;34m(submit, num_workers, dsk, result, cache, get_id, rerun_exceptions_locally, pack_exception, raise_exception, callbacks, dumps, loads, chunksize, **kwargs)\u001b[0m\n\u001b[1;32m    509\u001b[0m         _execute_task(task, data)  \u001b[38;5;66;03m# Re-execute locally\u001b[39;00m\n\u001b[1;32m    510\u001b[0m     \u001b[38;5;28;01melse\u001b[39;00m:\n\u001b[0;32m--> 511\u001b[0m         \u001b[43mraise_exception\u001b[49m\u001b[43m(\u001b[49m\u001b[43mexc\u001b[49m\u001b[43m,\u001b[49m\u001b[43m \u001b[49m\u001b[43mtb\u001b[49m\u001b[43m)\u001b[49m\n\u001b[1;32m    512\u001b[0m res, worker_id \u001b[38;5;241m=\u001b[39m loads(res_info)\n\u001b[1;32m    513\u001b[0m state[\u001b[38;5;124m\"\u001b[39m\u001b[38;5;124mcache\u001b[39m\u001b[38;5;124m\"\u001b[39m][key] \u001b[38;5;241m=\u001b[39m res\n",
      "File \u001b[0;32m/commons/conda/dsls/lib/python3.10/site-packages/dask/local.py:319\u001b[0m, in \u001b[0;36mreraise\u001b[0;34m(exc, tb)\u001b[0m\n\u001b[1;32m    317\u001b[0m \u001b[38;5;28;01mif\u001b[39;00m exc\u001b[38;5;241m.\u001b[39m__traceback__ \u001b[38;5;129;01mis\u001b[39;00m \u001b[38;5;129;01mnot\u001b[39;00m tb:\n\u001b[1;32m    318\u001b[0m     \u001b[38;5;28;01mraise\u001b[39;00m exc\u001b[38;5;241m.\u001b[39mwith_traceback(tb)\n\u001b[0;32m--> 319\u001b[0m \u001b[38;5;28;01mraise\u001b[39;00m exc\n",
      "File \u001b[0;32m/commons/conda/dsls/lib/python3.10/site-packages/dask/local.py:224\u001b[0m, in \u001b[0;36mexecute_task\u001b[0;34m(key, task_info, dumps, loads, get_id, pack_exception)\u001b[0m\n\u001b[1;32m    222\u001b[0m \u001b[38;5;28;01mtry\u001b[39;00m:\n\u001b[1;32m    223\u001b[0m     task, data \u001b[38;5;241m=\u001b[39m loads(task_info)\n\u001b[0;32m--> 224\u001b[0m     result \u001b[38;5;241m=\u001b[39m \u001b[43m_execute_task\u001b[49m\u001b[43m(\u001b[49m\u001b[43mtask\u001b[49m\u001b[43m,\u001b[49m\u001b[43m \u001b[49m\u001b[43mdata\u001b[49m\u001b[43m)\u001b[49m\n\u001b[1;32m    225\u001b[0m     \u001b[38;5;28mid\u001b[39m \u001b[38;5;241m=\u001b[39m get_id()\n\u001b[1;32m    226\u001b[0m     result \u001b[38;5;241m=\u001b[39m dumps((result, \u001b[38;5;28mid\u001b[39m))\n",
      "File \u001b[0;32m/commons/conda/dsls/lib/python3.10/site-packages/dask/core.py:119\u001b[0m, in \u001b[0;36m_execute_task\u001b[0;34m(arg, cache, dsk)\u001b[0m\n\u001b[1;32m    115\u001b[0m     func, args \u001b[38;5;241m=\u001b[39m arg[\u001b[38;5;241m0\u001b[39m], arg[\u001b[38;5;241m1\u001b[39m:]\n\u001b[1;32m    116\u001b[0m     \u001b[38;5;66;03m# Note: Don't assign the subtask results to a variable. numpy detects\u001b[39;00m\n\u001b[1;32m    117\u001b[0m     \u001b[38;5;66;03m# temporaries by their reference count and can execute certain\u001b[39;00m\n\u001b[1;32m    118\u001b[0m     \u001b[38;5;66;03m# operations in-place.\u001b[39;00m\n\u001b[0;32m--> 119\u001b[0m     \u001b[38;5;28;01mreturn\u001b[39;00m \u001b[43mfunc\u001b[49m\u001b[43m(\u001b[49m\u001b[38;5;241;43m*\u001b[39;49m\u001b[43m(\u001b[49m\u001b[43m_execute_task\u001b[49m\u001b[43m(\u001b[49m\u001b[43ma\u001b[49m\u001b[43m,\u001b[49m\u001b[43m \u001b[49m\u001b[43mcache\u001b[49m\u001b[43m)\u001b[49m\u001b[43m \u001b[49m\u001b[38;5;28;43;01mfor\u001b[39;49;00m\u001b[43m \u001b[49m\u001b[43ma\u001b[49m\u001b[43m \u001b[49m\u001b[38;5;129;43;01min\u001b[39;49;00m\u001b[43m \u001b[49m\u001b[43margs\u001b[49m\u001b[43m)\u001b[49m\u001b[43m)\u001b[49m\n\u001b[1;32m    120\u001b[0m \u001b[38;5;28;01melif\u001b[39;00m \u001b[38;5;129;01mnot\u001b[39;00m ishashable(arg):\n\u001b[1;32m    121\u001b[0m     \u001b[38;5;28;01mreturn\u001b[39;00m arg\n",
      "File \u001b[0;32m/commons/conda/dsls/lib/python3.10/site-packages/dask/dataframe/shuffle.py:968\u001b[0m, in \u001b[0;36mshuffle_group_3\u001b[0;34m(df, col, npartitions, p)\u001b[0m\n\u001b[1;32m    966\u001b[0m g \u001b[38;5;241m=\u001b[39m df\u001b[38;5;241m.\u001b[39mgroupby(col)\n\u001b[1;32m    967\u001b[0m d \u001b[38;5;241m=\u001b[39m {i: g\u001b[38;5;241m.\u001b[39mget_group(i) \u001b[38;5;28;01mfor\u001b[39;00m i \u001b[38;5;129;01min\u001b[39;00m g\u001b[38;5;241m.\u001b[39mgroups}\n\u001b[0;32m--> 968\u001b[0m \u001b[43mp\u001b[49m\u001b[38;5;241;43m.\u001b[39;49m\u001b[43mappend\u001b[49m\u001b[43m(\u001b[49m\u001b[43md\u001b[49m\u001b[43m,\u001b[49m\u001b[43m \u001b[49m\u001b[43mfsync\u001b[49m\u001b[38;5;241;43m=\u001b[39;49m\u001b[38;5;28;43;01mTrue\u001b[39;49;00m\u001b[43m)\u001b[49m\n",
      "File \u001b[0;32m/commons/conda/dsls/lib/python3.10/site-packages/partd/encode.py:25\u001b[0m, in \u001b[0;36mEncode.append\u001b[0;34m(self, data, **kwargs)\u001b[0m\n\u001b[1;32m     23\u001b[0m data \u001b[38;5;241m=\u001b[39m valmap(\u001b[38;5;28mself\u001b[39m\u001b[38;5;241m.\u001b[39mencode, data)\n\u001b[1;32m     24\u001b[0m data \u001b[38;5;241m=\u001b[39m valmap(frame, data)\n\u001b[0;32m---> 25\u001b[0m \u001b[38;5;28;43mself\u001b[39;49m\u001b[38;5;241;43m.\u001b[39;49m\u001b[43mpartd\u001b[49m\u001b[38;5;241;43m.\u001b[39;49m\u001b[43mappend\u001b[49m\u001b[43m(\u001b[49m\u001b[43mdata\u001b[49m\u001b[43m,\u001b[49m\u001b[43m \u001b[49m\u001b[38;5;241;43m*\u001b[39;49m\u001b[38;5;241;43m*\u001b[39;49m\u001b[43mkwargs\u001b[49m\u001b[43m)\u001b[49m\n",
      "File \u001b[0;32m/commons/conda/dsls/lib/python3.10/site-packages/partd/buffer.py:45\u001b[0m, in \u001b[0;36mBuffer.append\u001b[0;34m(self, data, lock, **kwargs)\u001b[0m\n\u001b[1;32m     43\u001b[0m     \u001b[38;5;28;01mwhile\u001b[39;00m \u001b[38;5;28mself\u001b[39m\u001b[38;5;241m.\u001b[39mmemory_usage \u001b[38;5;241m>\u001b[39m \u001b[38;5;28mself\u001b[39m\u001b[38;5;241m.\u001b[39mavailable_memory:\n\u001b[1;32m     44\u001b[0m         keys \u001b[38;5;241m=\u001b[39m keys_to_flush(\u001b[38;5;28mself\u001b[39m\u001b[38;5;241m.\u001b[39mlengths, \u001b[38;5;241m0.1\u001b[39m, maxcount\u001b[38;5;241m=\u001b[39m\u001b[38;5;241m20\u001b[39m)\n\u001b[0;32m---> 45\u001b[0m         \u001b[38;5;28;43mself\u001b[39;49m\u001b[38;5;241;43m.\u001b[39;49m\u001b[43mflush\u001b[49m\u001b[43m(\u001b[49m\u001b[43mkeys\u001b[49m\u001b[43m)\u001b[49m\n\u001b[1;32m     47\u001b[0m \u001b[38;5;28;01mfinally\u001b[39;00m:\n\u001b[1;32m     48\u001b[0m     \u001b[38;5;28;01mif\u001b[39;00m lock: \u001b[38;5;28mself\u001b[39m\u001b[38;5;241m.\u001b[39mlock\u001b[38;5;241m.\u001b[39mrelease()\n",
      "File \u001b[0;32m/commons/conda/dsls/lib/python3.10/site-packages/partd/buffer.py:99\u001b[0m, in \u001b[0;36mBuffer.flush\u001b[0;34m(self, keys, block)\u001b[0m\n\u001b[1;32m     96\u001b[0m \u001b[38;5;28;01mif\u001b[39;00m keys \u001b[38;5;129;01mis\u001b[39;00m \u001b[38;5;28;01mNone\u001b[39;00m:\n\u001b[1;32m     97\u001b[0m     keys \u001b[38;5;241m=\u001b[39m \u001b[38;5;28mlist\u001b[39m(\u001b[38;5;28mself\u001b[39m\u001b[38;5;241m.\u001b[39mlengths)\n\u001b[0;32m---> 99\u001b[0m \u001b[38;5;28;43mself\u001b[39;49m\u001b[38;5;241;43m.\u001b[39;49m\u001b[43mslow\u001b[49m\u001b[38;5;241;43m.\u001b[39;49m\u001b[43mappend\u001b[49m\u001b[43m(\u001b[49m\u001b[38;5;28;43mdict\u001b[39;49m\u001b[43m(\u001b[49m\u001b[38;5;28;43mzip\u001b[39;49m\u001b[43m(\u001b[49m\u001b[43mkeys\u001b[49m\u001b[43m,\u001b[49m\u001b[43m \u001b[49m\u001b[38;5;28;43mself\u001b[39;49m\u001b[38;5;241;43m.\u001b[39;49m\u001b[43mfast\u001b[49m\u001b[38;5;241;43m.\u001b[39;49m\u001b[43mget\u001b[49m\u001b[43m(\u001b[49m\u001b[43mkeys\u001b[49m\u001b[43m)\u001b[49m\u001b[43m)\u001b[49m\u001b[43m)\u001b[49m\u001b[43m)\u001b[49m\n\u001b[1;32m    100\u001b[0m \u001b[38;5;28mself\u001b[39m\u001b[38;5;241m.\u001b[39mfast\u001b[38;5;241m.\u001b[39mdelete(keys)\n\u001b[1;32m    102\u001b[0m \u001b[38;5;28;01mfor\u001b[39;00m key \u001b[38;5;129;01min\u001b[39;00m keys:\n",
      "File \u001b[0;32m/commons/conda/dsls/lib/python3.10/site-packages/partd/file.py:44\u001b[0m, in \u001b[0;36mFile.append\u001b[0;34m(self, data, lock, fsync, **kwargs)\u001b[0m\n\u001b[1;32m     42\u001b[0m     os\u001b[38;5;241m.\u001b[39mmakedirs(os\u001b[38;5;241m.\u001b[39mpath\u001b[38;5;241m.\u001b[39mdirname(fn))\n\u001b[1;32m     43\u001b[0m \u001b[38;5;28;01mwith\u001b[39;00m \u001b[38;5;28mopen\u001b[39m(fn, \u001b[38;5;124m'\u001b[39m\u001b[38;5;124mab\u001b[39m\u001b[38;5;124m'\u001b[39m) \u001b[38;5;28;01mas\u001b[39;00m f:\n\u001b[0;32m---> 44\u001b[0m     \u001b[43mf\u001b[49m\u001b[38;5;241;43m.\u001b[39;49m\u001b[43mwrite\u001b[49m\u001b[43m(\u001b[49m\u001b[43mv\u001b[49m\u001b[43m)\u001b[49m\n\u001b[1;32m     45\u001b[0m     \u001b[38;5;28;01mif\u001b[39;00m fsync:\n\u001b[1;32m     46\u001b[0m         os\u001b[38;5;241m.\u001b[39mfsync(f)\n",
      "\u001b[0;31mOSError\u001b[0m: [Errno 28] No space left on device"
     ]
    }
   ],
   "source": [
    "# Set index to 'protein_id'\n",
    "ddf_with_index = ddf.set_index('protein_id')\n",
    "\n",
    "# Get the maximum protein length per protein_id\n",
    "protein_length = ddf_with_index.groupby('protein_id')['protein_length'].max().compute()\n",
    "\n",
    "# Select the entries wich protein lenght is within 90-100%\n",
    "similar_size = ddf_with_index[(ddf_with_index['protein_length'] >= protein_length * 0.9) & \n",
    "                                       (ddf_with_index['protein_length'] <= protein_length * 1.0)]\n",
    "\n",
    "# Reset index\n",
    "similar_size = similar_size.reset_index()\n"
   ]
  },
  {
   "cell_type": "markdown",
   "metadata": {},
   "source": [
    "There was some problem of memory and the command could not finish (error: No space left on the device). But after hetting the entries wich protein lenght is within 90-100% the next stepes are shown in the following cell"
   ]
  },
  {
   "cell_type": "code",
   "execution_count": null,
   "metadata": {},
   "outputs": [],
   "source": [
    "# Group by interpro_id and count how many entries are \n",
    "interpro_id_counts = similar_size.groupby('interpro_id')['interpro_id'].count().compute(num_workers=16)\n",
    "# Get only the 10 largest entries\n",
    "print(\"Interpro Features Counts:\")\n",
    "top_ten_inter = interpro_id_counts.nlargest(10)\n",
    "top_ten_inter"
   ]
  },
  {
   "cell_type": "markdown",
   "metadata": {},
   "source": [
    "### 7. If you look at those features which also have textual annotaion, what is the top 10 most common word found in that annotaion?"
   ]
  },
  {
   "cell_type": "code",
   "execution_count": 15,
   "metadata": {},
   "outputs": [
    {
     "name": "stdout",
     "output_type": "stream",
     "text": [
      "Top ten common annotations\n",
      "domain          87860\n",
      "superfamily     50913\n",
      "nucleoside      46834\n",
      "triphosphate    46834\n",
      "p-loop          46834\n",
      "containing      46834\n",
      "hydrolase       46834\n",
      "winged          27595\n",
      "dna-binding     27595\n",
      "abc             27557\n",
      "Name: interpro_desc, dtype: int64\n"
     ]
    }
   ],
   "source": [
    "# Get a subset of the daskdatafram ddf with the top ten features\n",
    "ddf_subset = ddf[ddf['interpro_id'].isin(top_ten.index)]\n",
    "\n",
    "# converts the text to lowercase, split each text element into a list of words and \n",
    "# convert every list element into a separate row\n",
    "annotation_words = ddf_subset['interpro_desc'].str.lower().str.split().explode()\n",
    "\n",
    "# Get the counts per word and only select the 10 largest\n",
    "top_ten_common_words = annotation_words.value_counts().nlargest(10).compute(num_workers=16)\n",
    "    \n",
    "print(\"Top ten common annotations\")\n",
    "print(top_ten_common_words)"
   ]
  },
  {
   "cell_type": "markdown",
   "metadata": {},
   "source": [
    "### 8. And the top 10 least common?"
   ]
  },
  {
   "cell_type": "code",
   "execution_count": 14,
   "metadata": {},
   "outputs": [
    {
     "name": "stdout",
     "output_type": "stream",
     "text": [
      "Top ten least common annotations\n",
      "transduction      10471\n",
      "signal            10471\n",
      "regulator,        10471\n",
      "receiver          10471\n",
      "response          10471\n",
      "transmembrane     10613\n",
      "type              10613\n",
      "1,                10613\n",
      "meti-like         10613\n",
      "nad(p)-binding    10716\n",
      "Name: interpro_desc, dtype: int64\n"
     ]
    }
   ],
   "source": [
    "# Get the counts per word and only select the 10 largest\n",
    "top_ten_least_common_words = annotation_words.value_counts().nsmallest(10).compute(num_workers=16)\n",
    "    \n",
    "print(\"Top ten least common annotations\")\n",
    "print(top_ten_least_common_words)"
   ]
  },
  {
   "cell_type": "markdown",
   "metadata": {},
   "source": [
    "### 9. Combining your answers for Q6 and Q7, what are the 10 most commons words found for the largest InterPRO features?"
   ]
  },
  {
   "cell_type": "code",
   "execution_count": 16,
   "metadata": {},
   "outputs": [],
   "source": [
    "common_words_largest_interpro = annotation_words[annotation_words.index.isin(top_ten.index)]\n",
    "top_10_common_words_largest_interpro = common_words_largest_interpro.value_counts().nlargest(10).compute(num_workers=16)\n"
   ]
  },
  {
   "cell_type": "code",
   "execution_count": 22,
   "metadata": {},
   "outputs": [
    {
     "name": "stdout",
     "output_type": "stream",
     "text": [
      "Ten most commons words in the largest Interpro features: Series([], Name: interpro_desc, dtype: int64)\n"
     ]
    }
   ],
   "source": [
    "print(f'Ten most commons words in the largest Interpro features: {top_10_common_words_largest_interpro}')\n"
   ]
  },
  {
   "cell_type": "markdown",
   "metadata": {},
   "source": [
    "### 10. What is the coefficient of correlation (R^2) between the size of the protein and the number of features found?"
   ]
  },
  {
   "cell_type": "code",
   "execution_count": 19,
   "metadata": {},
   "outputs": [],
   "source": [
    "correlation_coefficient = ddf.groupby('protein_id').agg(\n",
    "                                                    {'protein_length': 'max', \n",
    "                                                    'interpro_id': 'count'}).corr().compute(num_workers=16)\n",
    "correlation = correlation_coefficient.iloc[0, 1]\n",
    "\n"
   ]
  },
  {
   "cell_type": "code",
   "execution_count": 23,
   "metadata": {},
   "outputs": [
    {
     "name": "stdout",
     "output_type": "stream",
     "text": [
      "Coefficient of correlation: 0.6387083370364052\n"
     ]
    }
   ],
   "source": [
    "print(f'Coefficient of correlation: {correlation}')"
   ]
  },
  {
   "cell_type": "code",
   "execution_count": null,
   "metadata": {},
   "outputs": [],
   "source": [
    "# Close the Dask client\n",
    "#client.close()"
   ]
  }
 ],
 "metadata": {
  "kernelspec": {
   "display_name": "Python 3",
   "language": "python",
   "name": "python3"
  },
  "language_info": {
   "codemirror_mode": {
    "name": "ipython",
    "version": 3
   },
   "file_extension": ".py",
   "mimetype": "text/x-python",
   "name": "python",
   "nbconvert_exporter": "python",
   "pygments_lexer": "ipython3",
   "version": "3.10.8"
  }
 },
 "nbformat": 4,
 "nbformat_minor": 2
}
