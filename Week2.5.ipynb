{
 "cells": [
  {
   "cell_type": "markdown",
   "metadata": {},
   "source": [
    "# Week 2.5: Real world Dask\n",
    "Author: Juana Karina Diaz Barba\n",
    "  "
   ]
  },
  {
   "cell_type": "code",
   "execution_count": 17,
   "metadata": {},
   "outputs": [],
   "source": [
    "import dask.dataframe as dd\n",
    "from dask.distributed import Client\n",
    "import pandas as pd\n",
    "import yaml\n",
    "\n",
    "# client = Client()\n",
    "# client"
   ]
  },
  {
   "cell_type": "code",
   "execution_count": 18,
   "metadata": {},
   "outputs": [],
   "source": [
    "def get_config():\n",
    "    '''Setting the config file'''\n",
    "    with open('config_prog2.yaml', 'r') as stream:\n",
    "        config = yaml.safe_load(stream)\n",
    "        return config\n",
    "\n",
    "config = get_config()\n",
    "bacilli_path = (config['bacilli'])"
   ]
  },
  {
   "cell_type": "markdown",
   "metadata": {},
   "source": [
    "Column names obtained from:  \n",
    "https://interproscan-docs.readthedocs.io/en/latest/OutputFormats.html#example-output "
   ]
  },
  {
   "cell_type": "code",
   "execution_count": 19,
   "metadata": {},
   "outputs": [
    {
     "data": {
      "text/html": [
       "<div><strong>Dask DataFrame Structure:</strong></div>\n",
       "<div>\n",
       "<style scoped>\n",
       "    .dataframe tbody tr th:only-of-type {\n",
       "        vertical-align: middle;\n",
       "    }\n",
       "\n",
       "    .dataframe tbody tr th {\n",
       "        vertical-align: top;\n",
       "    }\n",
       "\n",
       "    .dataframe thead th {\n",
       "        text-align: right;\n",
       "    }\n",
       "</style>\n",
       "<table border=\"1\" class=\"dataframe\">\n",
       "  <thead>\n",
       "    <tr style=\"text-align: right;\">\n",
       "      <th></th>\n",
       "      <th>protein_id</th>\n",
       "      <th>protein_md5</th>\n",
       "      <th>protein_length</th>\n",
       "      <th>analysis</th>\n",
       "      <th>signature_id</th>\n",
       "      <th>signature_description</th>\n",
       "      <th>Start location</th>\n",
       "      <th>Stop location</th>\n",
       "      <th>score</th>\n",
       "      <th>status</th>\n",
       "      <th>date</th>\n",
       "      <th>interpro_id</th>\n",
       "      <th>interpro_desc</th>\n",
       "      <th>go_terms</th>\n",
       "      <th>pathway_terms</th>\n",
       "    </tr>\n",
       "    <tr>\n",
       "      <th>npartitions=174</th>\n",
       "      <th></th>\n",
       "      <th></th>\n",
       "      <th></th>\n",
       "      <th></th>\n",
       "      <th></th>\n",
       "      <th></th>\n",
       "      <th></th>\n",
       "      <th></th>\n",
       "      <th></th>\n",
       "      <th></th>\n",
       "      <th></th>\n",
       "      <th></th>\n",
       "      <th></th>\n",
       "      <th></th>\n",
       "      <th></th>\n",
       "    </tr>\n",
       "  </thead>\n",
       "  <tbody>\n",
       "    <tr>\n",
       "      <th></th>\n",
       "      <td>object</td>\n",
       "      <td>object</td>\n",
       "      <td>int64</td>\n",
       "      <td>object</td>\n",
       "      <td>object</td>\n",
       "      <td>object</td>\n",
       "      <td>int64</td>\n",
       "      <td>int64</td>\n",
       "      <td>float64</td>\n",
       "      <td>object</td>\n",
       "      <td>object</td>\n",
       "      <td>object</td>\n",
       "      <td>object</td>\n",
       "      <td>object</td>\n",
       "      <td>object</td>\n",
       "    </tr>\n",
       "    <tr>\n",
       "      <th></th>\n",
       "      <td>...</td>\n",
       "      <td>...</td>\n",
       "      <td>...</td>\n",
       "      <td>...</td>\n",
       "      <td>...</td>\n",
       "      <td>...</td>\n",
       "      <td>...</td>\n",
       "      <td>...</td>\n",
       "      <td>...</td>\n",
       "      <td>...</td>\n",
       "      <td>...</td>\n",
       "      <td>...</td>\n",
       "      <td>...</td>\n",
       "      <td>...</td>\n",
       "      <td>...</td>\n",
       "    </tr>\n",
       "    <tr>\n",
       "      <th>...</th>\n",
       "      <td>...</td>\n",
       "      <td>...</td>\n",
       "      <td>...</td>\n",
       "      <td>...</td>\n",
       "      <td>...</td>\n",
       "      <td>...</td>\n",
       "      <td>...</td>\n",
       "      <td>...</td>\n",
       "      <td>...</td>\n",
       "      <td>...</td>\n",
       "      <td>...</td>\n",
       "      <td>...</td>\n",
       "      <td>...</td>\n",
       "      <td>...</td>\n",
       "      <td>...</td>\n",
       "    </tr>\n",
       "    <tr>\n",
       "      <th></th>\n",
       "      <td>...</td>\n",
       "      <td>...</td>\n",
       "      <td>...</td>\n",
       "      <td>...</td>\n",
       "      <td>...</td>\n",
       "      <td>...</td>\n",
       "      <td>...</td>\n",
       "      <td>...</td>\n",
       "      <td>...</td>\n",
       "      <td>...</td>\n",
       "      <td>...</td>\n",
       "      <td>...</td>\n",
       "      <td>...</td>\n",
       "      <td>...</td>\n",
       "      <td>...</td>\n",
       "    </tr>\n",
       "    <tr>\n",
       "      <th></th>\n",
       "      <td>...</td>\n",
       "      <td>...</td>\n",
       "      <td>...</td>\n",
       "      <td>...</td>\n",
       "      <td>...</td>\n",
       "      <td>...</td>\n",
       "      <td>...</td>\n",
       "      <td>...</td>\n",
       "      <td>...</td>\n",
       "      <td>...</td>\n",
       "      <td>...</td>\n",
       "      <td>...</td>\n",
       "      <td>...</td>\n",
       "      <td>...</td>\n",
       "      <td>...</td>\n",
       "    </tr>\n",
       "  </tbody>\n",
       "</table>\n",
       "</div>\n",
       "<div>Dask Name: read-csv, 174 tasks</div>"
      ],
      "text/plain": [
       "Dask DataFrame Structure:\n",
       "                protein_id protein_md5 protein_length analysis signature_id signature_description Start location Stop location    score  status    date interpro_id interpro_desc go_terms pathway_terms\n",
       "npartitions=174                                                                                                                                                                                         \n",
       "                    object      object          int64   object       object                object          int64         int64  float64  object  object      object        object   object        object\n",
       "                       ...         ...            ...      ...          ...                   ...            ...           ...      ...     ...     ...         ...           ...      ...           ...\n",
       "...                    ...         ...            ...      ...          ...                   ...            ...           ...      ...     ...     ...         ...           ...      ...           ...\n",
       "                       ...         ...            ...      ...          ...                   ...            ...           ...      ...     ...     ...         ...           ...      ...           ...\n",
       "                       ...         ...            ...      ...          ...                   ...            ...           ...      ...     ...     ...         ...           ...      ...           ...\n",
       "Dask Name: read-csv, 174 tasks"
      ]
     },
     "execution_count": 19,
     "metadata": {},
     "output_type": "execute_result"
    }
   ],
   "source": [
    "ddf = dd.read_csv(bacilli_path, delimiter='\\t',  header=None, \n",
    "                  names = [\"protein_id\", \"protein_md5\", \"protein_length\",\n",
    "                  \"analysis\", \"signature_id\", \"signature_description\", \"Start location\", \"Stop location\", \"score\", \n",
    "                   \"status\", \"date\", \"interpro_id\", \"interpro_desc\",\n",
    "                   \"go_terms\", \"pathway_terms\"])\n",
    "ddf"
   ]
  },
  {
   "cell_type": "markdown",
   "metadata": {},
   "source": [
    "### 1. How many distinct protein annotations are found in the dataset?  \n",
    "I.e. how many distinc InterPRO numbers are there?"
   ]
  },
  {
   "cell_type": "code",
   "execution_count": 20,
   "metadata": {},
   "outputs": [],
   "source": [
    "# 1.- Find the number of distinct InterPro numbers. \n",
    "# I use '.compute(num_workers=16)' to distribute the computation across these \n",
    "# workers to parallelize the task and speed up the processing of your dataset.\n",
    "distinct_interpro_count = ddf['interpro_id'].nunique().compute(num_workers=16)\n",
    "\n",
    "print(\"Number of distinct InterPro numbers:\", distinct_interpro_count)\n",
    "\n",
    "# 1 min 19 seg with 16 clients "
   ]
  },
  {
   "cell_type": "markdown",
   "metadata": {},
   "source": [
    "### 2. How many annotations does a protein have on average?"
   ]
  },
  {
   "cell_type": "code",
   "execution_count": null,
   "metadata": {},
   "outputs": [],
   "source": []
  },
  {
   "cell_type": "markdown",
   "metadata": {},
   "source": [
    "### 3. What is the most common GO Term found?"
   ]
  },
  {
   "cell_type": "markdown",
   "metadata": {},
   "source": [
    "### 4. What is the average size of an InterPRO feature found in the dataset?"
   ]
  },
  {
   "cell_type": "markdown",
   "metadata": {},
   "source": [
    "### 5. What is the top 10 most common InterPRO features?"
   ]
  },
  {
   "cell_type": "markdown",
   "metadata": {},
   "source": [
    "### 6.  If you select InterPRO features that are almost the same size (within 90-100%) as the protein itself, what is the top10 then?"
   ]
  },
  {
   "cell_type": "markdown",
   "metadata": {},
   "source": [
    "### 7. If you look at those features which also have textual annotaion, what is the top 10 most common word found in that annotaion?"
   ]
  },
  {
   "cell_type": "markdown",
   "metadata": {},
   "source": [
    "### 8. And the top 10 least common?"
   ]
  },
  {
   "cell_type": "markdown",
   "metadata": {},
   "source": [
    "### 9. Combining your answers for Q6 and Q7, what are the 10 most commons words found for the largest InterPRO features?"
   ]
  },
  {
   "cell_type": "markdown",
   "metadata": {},
   "source": [
    "### 10. What is the coefficient of correlation (R^2) between the size of the protein and the number of features found?"
   ]
  }
 ],
 "metadata": {
  "kernelspec": {
   "display_name": "Python 3",
   "language": "python",
   "name": "python3"
  },
  "language_info": {
   "codemirror_mode": {
    "name": "ipython",
    "version": 3
   },
   "file_extension": ".py",
   "mimetype": "text/x-python",
   "name": "python",
   "nbconvert_exporter": "python",
   "pygments_lexer": "ipython3",
   "version": "3.10.8"
  }
 },
 "nbformat": 4,
 "nbformat_minor": 2
}
