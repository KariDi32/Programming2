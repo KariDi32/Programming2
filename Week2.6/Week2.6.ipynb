{
 "cells": [
  {
   "cell_type": "markdown",
   "metadata": {},
   "source": [
    "# Week 2.6: SE4ML (1)  \n",
    "Author: Juana Karina Diaz Barba\n",
    "  \n"
   ]
  },
  {
   "cell_type": "markdown",
   "metadata": {},
   "source": [
    "### Assignment 1: code review\n",
    "\n",
    "Code review from Anna Sorova from *week 1.3 Multiple class*.  \n",
    "\n",
    "Note: The codes are found in the *Week2.6/codes* path."
   ]
  },
  {
   "cell_type": "markdown",
   "metadata": {},
   "source": [
    "What is it supposed to do, how well is it organized and how would it scale and be maintainable?\n",
    "\n",
    "'In this exercise, we will be building a rela\u0000vely complex system that consists of several classes that need to coordinate certain events. In the process, we introduce the concept of asynchronicity, generators, parallelism and message queues. The central idea is that we have some data that needs to be harvested, transformed and distributed. We build this applica\u0000on in several more or less independent steps, in order to bring the idea home that separa\u0000on and compartmentaliza\u0000on are good things.'\n",
    "\n",
    "This code produces the data \n",
    "\n",
    "1. Write short units of code  \n",
    "2. Write simple unites of code  \n",
    "3. Write code once  \n",
    "4. Keep unit iterfaces small  \n",
    "  \n",
    "Suggestion and why this will improve the code:  \n",
    "\n"
   ]
  }
 ],
 "metadata": {
  "language_info": {
   "name": "python"
  }
 },
 "nbformat": 4,
 "nbformat_minor": 2
}
